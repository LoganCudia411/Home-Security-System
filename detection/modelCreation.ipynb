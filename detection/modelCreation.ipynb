{
 "cells": [
  {
   "cell_type": "markdown",
   "id": "ea0cfdef",
   "metadata": {},
   "source": [
    "# Names: Lorenzo Bujalil Silva (NetId: lorenzo9), Logan Cudia(NetId: llcudia2), Josh Cudia (NetId: cudia2) \n"
   ]
  },
  {
   "cell_type": "markdown",
   "id": "ec9b8e09",
   "metadata": {},
   "source": [
    "### Note: Many of the cells in this lab report will not run because they were copied over from our helper Raspberry Pi scripts, which include libraries such as tflite_runtime which we did not install on our PC.\n",
    "### Important: All three of us demoed this lab with Junhao Pan in the 10 AM lab section, however we wanted to let you know Lorenzo Bujalil Silva has the 1 PM lab section with Gregory Jun while the Josh and Logan have the 10 AM lab."
   ]
  },
  {
   "cell_type": "markdown",
   "id": "93812d4f",
   "metadata": {},
   "source": [
    "ECE479ICC LAB 2: Raspberry Pi, TF-Keras, and Face Detection\n",
    "====================================\n"
   ]
  },
  {
   "cell_type": "markdown",
   "id": "6ac27d92",
   "metadata": {},
   "source": [
    "## PART I: Raspberry Pi Setup and Basics\n",
    "\n",
    "### Raspberry Pi Setup\n",
    "\n",
    "From this lab on, you will apply what you have learned in the lectures to train and deploy a neural network on an edge device, Raspberry Pi 4.\n",
    "\n",
    "Raspberry Pi 4 is an inexpensive but powerful IoT device. You may review this [report][raspberry_pi_history] to learn more about its story. To start, you need to install the proper Raspbian OS. If you are at home without a monitor, you can set up the OS with the headless option. The official Raspberry Pi documents with the headless option could be found [here][rpi_headless]. If you would like to use the SSH (Secure Shell) to connect to your Raspberry Pi, you can refer to this official [document][rpi_ssh].\n",
    "\n",
    "Once your RPi can boot into the OS normally, you can enable the VNC and access the desktop environment using your laptop/desktop. You can follow the \"Enabling and Connecting over VNC\" section of the [tutorial][headless_rpi_start] for this.\n",
    "\n",
    "Now that you have the desktop environment, follow this [guide][picam_start] to set up your pi-camera. You should be able to take pictures and videos with your camera.\n",
    "\n",
    "[raspberry_pi_history]:https://www.techrepublic.com/article/inside-the-raspberry-pi-the-story-of-the-35-computer-that-changed-the-world/\n",
    "[headless_rpi_start]: https://www.tomshardware.com/reviews/raspberry-pi-headless-setup-how-to,6028.html\n",
    "[rpi_headless]:https://www.raspberrypi.com/documentation/computers/configuration.html#setting-up-a-headless-raspberry-pi\n",
    "[rpi_ssh]:https://www.raspberrypi.com/documentation/computers/remote-access.html\n",
    "[picam_start]:https://picamera.readthedocs.io/en/latest/\n",
    "[headless_setup]:https://www.raspberrypi.org/documentation/remote-access/ssh/\n",
    "\n",
    "In this part of the lab, you need to complete the following tasks: \n",
    "\n",
    "  * Install Raspbian OS in your Raspberry Pi, set up your network connection, and take a selfie on the pi-camera.\n",
    "  * **Print** the CPU specs with `cat /proc/cpuinfo`\n",
    "  * **Print** network interface configuration with `ifconfig`\n",
    "  \n",
    "  \n",
    "### TensorFlow Setup on Raspberry Pi \n",
    "\n",
    "Once you can log into the Raspberry Pi desktop, please follow the [this_guide][tf_lite_install] and [this_guide][coral_setup] to install **TensorFlow Lite** on your Raspberry Pi and work with the accelerator.\n",
    "\n",
    "After the installation. Please verify that the installation is properly done. By running\n",
    "```Python\n",
    "import tensorflow as tf\n",
    "tf.__version__\n",
    "```\n",
    "in a python environment, notice the version number for your Tensorflow.\n",
    "\n",
    "[tf_lite_install]:https://www.tensorflow.org/lite/guide/python\n",
    "[coral_setup]:https://coral.ai/docs/accelerator/get-started/\n",
    "\n",
    "### TensorFlow Setup on Your PC\n",
    "\n",
    "Please follow the following commands in your conda environment to install **TensorFlow 2.10** on your own PC.\n",
    "```\n",
    "conda install -c conda-forge tensorflow=2.10\n",
    "```\n",
    "If you have a Apple Silicon Mac, please follow this [guide][tf_install]. It is a little more complicated.\n",
    "\n",
    "\n",
    "After the installation. Please verify that the installation is properly done. By running\n",
    "```Python\n",
    "import tensorflow as tf\n",
    "tf.__version__\n",
    "```\n",
    "in a python environment, notice the version number for your Tensorflow.\n",
    "\n",
    "[tf_install]:https://towardsdatascience.com/installing-tensorflow-on-the-m1-mac-410bb36b776"
   ]
  },
  {
   "cell_type": "markdown",
   "id": "d84ee185",
   "metadata": {},
   "source": [
    "## Selfie on Pi Camera\n",
    "```Python\n",
    "from picamera2 import Picamera2, Preview\n",
    "import time\n",
    "picam2 = Picamera2()\n",
    "time.sleep(5)\n",
    "picam2.start_and_capture_file(\"selfie.jpg\")\n",
    "```\n",
    "![selfie](figures/selfie.jpeg)"
   ]
  },
  {
   "cell_type": "markdown",
   "id": "720327d4",
   "metadata": {},
   "source": [
    "## Print CPU Specs\n",
    "### cat /proc/cpuinfo\n",
    "![cpuinfo](figures/cpuinfo.jpeg)"
   ]
  },
  {
   "cell_type": "markdown",
   "id": "a10d1b9b",
   "metadata": {},
   "source": [
    "## Print network interface configuration\n",
    "### ifconfig\n",
    "![ifconfig](figures/ifconfig.jpeg)"
   ]
  },
  {
   "cell_type": "markdown",
   "id": "24218d6c",
   "metadata": {},
   "source": [
    "## PART II: Building and Training with TF-Keras\n",
    "\n",
    "In part II, you will build a Convolutional Neural Network (CNN) based image classifier. In our lecture, we have introduced CNN, a type of Deep Neural Network (DNN) that features convolutional layers. This [document][cnn_definition] by Stanford CS231n is also a good resource to learn more about CNN. You will build and train a simple CNN with TensorFlow on your own computers.\n",
    "\n",
    "[cnn_definition]:http://cs231n.github.io/convolutional-networks/\n",
    "\n",
    "There were two ways to construct and train a neural network model in TF1.x: Keras and low-level APIs. As Tensorflow evolves to 2.x, it leans more toward Keras, a higher-level framework than the previous version's low-level APIs. Keras APIs provide straightforward construction and training of neural networks, which hide away some tedious details of the network. \n",
    "\n",
    "Some may argue that low-level APIs provide more precise control over some aspects of the network. While users can still find a way to tune the details by looking deeper into the APIs, the framework encourages them to focus on the big picture and develop better and more robust network models rather than fixating on trivialities. As a beginner, it is helpful for us to start with Keras and establish a basic intuition on how to build and train a simple network.\n",
    "\n",
    "In this part of the lab, you need to follow this [tutorial][fashion_mnist] to build a neural network to classify the Fashion MNIST dataset.\n",
    "\n",
    "[fashion_mnist]:https://www.tensorflow.org/tutorials/keras/classification"
   ]
  },
  {
   "cell_type": "markdown",
   "id": "09fea53b",
   "metadata": {},
   "source": [
    "\n",
    "\n",
    "### FashionNet\n",
    "\n",
    "You will construct a neural network by yourselves. Let's call it the FashionNet. Here is an overview of the proposed Convolutional Neurual Network (CNN):\n",
    "\n",
    "![cnn_img](figures/fashionnet.png)\n",
    "\n",
    "This CNN contains two convolutional layers, two max pooling layers, and three fully connected layers (dense layers). The configuration details of each layer are shown in the following table (in sequential order):\n",
    "\n",
    "| Layers          | Configuration                        | Activation | Output Dimensions |\n",
    "|---------------:|--------------------------------------:|-------------------:|----------------------------------------: |\n",
    "| convolution     | input size = (28, 28, 1), kernel size = (5, 5), stride = 1, padding = 'same'   |       ReLU          |            (28, 28, 4)                     |\n",
    "| max pooling     | pool_size = (2, 2), stride = 2                           |       -             |            (14, 14, 4)                     |\n",
    "| convolution     | kernel size = (3, 3), stride = 1, padding = 'valid'|       ReLU          |            (12, 12, 8)                     |\n",
    "| max pooling     | pool_size = (2, 2), stride = 2                           |       -             |            (6, 6, 8)                       |\n",
    "| dense |       |       ReLU          |            (128)                     |\n",
    "| dense |        |       ReLU          |            (64)                      |\n",
    "| dense |         |       Softmax       |            (10)                      |\n",
    "\n",
    "\n",
    "### Dataset\n",
    "In this lab, you will use the Fashion MNIST dataset. You can load the dataset in the following way, which is also shown in the tutorial:\n",
    "```Python\n",
    "import tensorflow as tf\n",
    "from tensorflow import keras\n",
    "import numpy as np\n",
    "\n",
    "fashion_mnist = keras.datasets.fashion_mnist\n",
    "(train_images, train_labels), (test_images, test_labels) = fashion_mnist.load_data()\n",
    "```\n",
    "As discussed in the lecture, you should only use `train_images` and `train_labels` to train your model. You may also want to validate your model with a training/validation split. We will discuss the details in the next section.\n",
    "\n",
    "### Build, Train, and Evaluate\n",
    "Generally, there are three stages in the process of developing a neural network: build, train, and evaluate. In Keras, there are corresponding functions for each stage:\n",
    "\n",
    "1. **Build** First, you define the model architecture. In this lab, you can use a simple `keras.Sequential` function to define a model, as shown in this [example][sequential]. There are other ways to define a model, but we will not discuss those in this lab. After you have defined your model, you need to tell Keras what you want to do with it by compiling it. In the `model.compile` function, you specify the optimizer, loss function, metrics, and other configurations to prepare for training.\n",
    "2. **Train** You use `model.fit` function to train your model. In this function, you can specify the training parameters, including batch size, epochs, etc. You should specify your validation split in this function too. Please refer to the document and see how to do that.\n",
    "3. **Evaluate** After you have trained your model, you need to test the final accuracy using the testing data. The `model.evaluate` function gives you the percentage of the correct results. \n",
    "\n",
    "You can find the document for the above functions [here][fit_api].\n",
    "You may also find that in FashionNet, you use 2-D convolution in the first couple of layers. You may find [this document][layer_api] helpful since the `layers.Conv2D` and `layers.MaxPool2D` functions are not covered in the tutorial.\n",
    "\n",
    "The training of this CNN should not take a very long time on a laptop/desktop CPU. The final testing accuracy should be higher than 85%, and the training accuracy should be higher than 90%.\n",
    "\n",
    "\n",
    "### Plot the Training Progress\n",
    "The `model.fit` function outputs a history of the training metrics (accuracy and loss), including validation metrics. This infomation can be very helpful for diagnosing the model.\n",
    "\n",
    "**Use `matplotlib` to graph the model accuracy and loss on the training and validation dataset, and include them in your report.** The graph should look something like the following, but yours can be different if you have different configurations of the training process.\n",
    "\n",
    "![train_img](figures/train.png)\n",
    "\n",
    "### Saving Your Trained Model\n",
    "Finally, you will need to save your trained models to model files. Saving a trained model allows you to deploy it to other devices or restore previous training progress at a later time. \n",
    "\n",
    "For the purpose of this lab, we ask you to save it using **the TensorFlow SavedModel format**, which will contain the information of the model as well as the weights.\n",
    "\n",
    "```Python\n",
    "# Calling `save('my_model')` creates a SavedModel folder `my_model`.\n",
    "your_trained_model.save(\"my_model\")\n",
    "```\n",
    "\n",
    "Please read [this document][save_model] to learn more about how the model save works in tensorflow.\n",
    "\n",
    "[build_tag]:https://www.tensorflow.org/tutorials/keras/classification#build_the_model\n",
    "[train_tag]:https://www.tensorflow.org/tutorials/keras/classification#train_the_model\n",
    "[eval_tag]:https://www.tensorflow.org/tutorials/keras/classification#evaluate_accuracy\n",
    "[sequential]:https://www.tensorflow.org/guide/keras/sequential_model#when_to_use_a_sequential_model\n",
    "\n",
    "\n",
    "[fit_api]:https://keras.io/api/models/model_training_apis/\n",
    "[layer_api]:https://www.tensorflow.org/api_docs/python/tf/keras/layers\n",
    "[save_model]:https://www.tensorflow.org/guide/keras/save_and_serialize#what_the_savedmodel_contains"
   ]
  },
  {
   "cell_type": "code",
   "execution_count": null,
   "id": "fdbe740b",
   "metadata": {},
   "outputs": [],
   "source": [
    "# The following set of code until the model is saved references this tutorial: \n",
    "# https://www.tensorflow.org/tutorials/keras/classification. Many of the visualizations were kept\n",
    "# in the notebook to analyze the accuracy of the model, however the implementation of the model in the \n",
    "# tutorial was changed to the fashion net model which has more complexity.\n",
    "# You can see the changes reflected mainly when building the model using keras sequential."
   ]
  },
  {
   "cell_type": "code",
   "execution_count": 13,
   "id": "af6b96fc",
   "metadata": {},
   "outputs": [
    {
     "name": "stdout",
     "output_type": "stream",
     "text": [
      "2.10.0\n",
      "Num GPUs Available:  0\n"
     ]
    }
   ],
   "source": [
    "# TensorFlow and tf.keras\n",
    "import os\n",
    "import tensorflow as tf\n",
    "from tensorflow import keras\n",
    "\n",
    "# Helper libraries\n",
    "import numpy as np\n",
    "import matplotlib.pyplot as plt\n",
    "\n",
    "print(tf.__version__) # Prints out the current tensorflow version\n",
    "print(\"Num GPUs Available: \", len(tf.config.list_physical_devices('GPU')))# Prints out the number of GPUs available to potenital be used to accelrate learning."
   ]
  },
  {
   "cell_type": "code",
   "execution_count": 14,
   "id": "5b973657",
   "metadata": {},
   "outputs": [],
   "source": [
    "# TODO:\n",
    "# 1. Load Fashion MNIST dataset\n",
    "# In order to start we needed to load the data using the keras datasets library. \n",
    "# This provides with a effective solution to store the data in a numpy array which is compatible\n",
    "# with the model training and testing. \n",
    "import tensorflow as tf\n",
    "from tensorflow import keras\n",
    "import numpy as np\n",
    "\n",
    "fashion_mnist = keras.datasets.fashion_mnist\n",
    "(train_images, train_labels), (test_images, test_labels) = fashion_mnist.load_data()\n",
    "\n"
   ]
  },
  {
   "cell_type": "code",
   "execution_count": 15,
   "id": "98fb7c04",
   "metadata": {},
   "outputs": [],
   "source": [
    "# References: \n",
    "# 1. https://www.tensorflow.org/api_docs/python/tf/keras/datasets\n",
    "# 2. https://www.tensorflow.org/api_docs/python/tf/keras/datasets/fashion_mnist/load_data"
   ]
  },
  {
   "cell_type": "code",
   "execution_count": 16,
   "id": "4a260b6d",
   "metadata": {},
   "outputs": [
    {
     "name": "stdout",
     "output_type": "stream",
     "text": [
      "(60000, 28, 28)\n",
      "(60000,)\n",
      "60000\n",
      "[9 0 0 ... 3 0 5]\n",
      "(10000, 28, 28)\n",
      "10000\n"
     ]
    }
   ],
   "source": [
    "# 2. Build, Train, and Evaluate\n",
    "# Here we are storing the names of each of the classes in the dataset for ease of use later when \n",
    "# visualizing data later.\n",
    "class_names = ['T-shirt/top', 'Trouser', 'Pullover', 'Dress', 'Coat',\n",
    "               'Sandal', 'Shirt', 'Sneaker', 'Bag', 'Ankle boot']\n",
    "\n",
    "# VISUALIZING DATA\n",
    "# It is very important to know what are the dimensions of the input data. \n",
    "# This is because neural networks heavily depends on matrix multiplication. If the input is not the correct\n",
    "# dimension then errors may be thrown when multiplying matricies with mismatched dimensions. This prevents \n",
    "# from forward propagation of the network. Below, we are visualizing the\n",
    "# data shape.\n",
    "\n",
    "# 60000 images for training\n",
    "# 10000 images for testing\n",
    "print(train_images.shape) # 60000 images, 28x28 images\n",
    "print(train_labels.shape) # 60000 labels\n",
    "print(len(train_labels))# 60000 labels\n",
    "print(train_labels)# each label is an integer between 0 and 9 \n",
    "print(test_images.shape)# 10000 images, 28x28 images\n",
    "print(len(test_labels))# 10000 labels\n",
    "\n",
    "# We now know what input shape to use when defining our model."
   ]
  },
  {
   "cell_type": "code",
   "execution_count": 17,
   "id": "53f826f4",
   "metadata": {},
   "outputs": [
    {
     "data": {
      "image/png": "[encoded data removed]",
      "text/plain": [
       "<Figure size 640x480 with 2 Axes>"
      ]
     },
     "metadata": {},
     "output_type": "display_data"
    }
   ],
   "source": [
    "# PREPROCESSING DATA\n",
    "\n",
    "# This is a quick visualization of one of the training images with a colorbar. \n",
    "plt.figure()\n",
    "plt.imshow(train_images[0])\n",
    "plt.colorbar()\n",
    "plt.grid(False)\n",
    "plt.show()\n",
    "\n",
    "# IMPORTANT: Normalizing data at sometimes improves calculation speed, but it is important to consider \n",
    "# if necessary when taking steps to apply post training quantization\n",
    "# in this labs case we are applying a full-integer quantization, and if we normalize our dataset then \n",
    "# we will encounter problems with the accuracy of the model. This means that\n",
    "# we will need to un normalize the images before testing that model. Full integer quantization predicts \n",
    "# the max and min values, and requires integers on the model to optimize\n",
    "# the model.\n",
    "\n",
    "# Scale values to the range of 0 to 1 before feeding them into the neural network model\n",
    "train_images = train_images/255.0\n",
    "test_images = test_images/255.0\n",
    "\n"
   ]
  },
  {
   "cell_type": "code",
   "execution_count": 18,
   "id": "7e6b438d",
   "metadata": {},
   "outputs": [],
   "source": [
    "# Saving the test images in order to test the tflite models on the Raspberry Pi\n",
    "np.save('test_images.npy', test_images)\n",
    "np.save('test_labels.npy', test_labels)\n"
   ]
  },
  {
   "cell_type": "code",
   "execution_count": 19,
   "id": "f2d3eb92",
   "metadata": {},
   "outputs": [],
   "source": [
    "# References:\n",
    "# 1. https://numpy.org/doc/stable/reference/generated/numpy.save.html"
   ]
  },
  {
   "cell_type": "code",
   "execution_count": 20,
   "id": "aafdd764",
   "metadata": {},
   "outputs": [
    {
     "data": {
      "image/png": "[encoded data removed]",
      "text/plain": [
       "<Figure size 1000x1000 with 25 Axes>"
      ]
     },
     "metadata": {},
     "output_type": "display_data"
    }
   ],
   "source": [
    "# Additional data visualization\n",
    "\n",
    "# Display first 25 images from training set\n",
    "plt.figure(figsize=(10,10))\n",
    "for i in range(25):\n",
    "    plt.subplot(5,5,i+1)\n",
    "    plt.xticks([])\n",
    "    plt.yticks([])\n",
    "    plt.grid(False)\n",
    "    plt.imshow(train_images[i],cmap=plt.cm.binary)\n",
    "    plt.xlabel(class_names[train_labels[i]])\n",
    "plt.show()"
   ]
  },
  {
   "cell_type": "markdown",
   "id": "79fddb2f",
   "metadata": {},
   "source": [
    "\n",
    "| Layers          | Configuration                        | Activation | Output Dimensions |\n",
    "|---------------:|--------------------------------------:|-------------------:|----------------------------------------: |\n",
    "| convolution     | input size = (28, 28, 1), kernel size = (5, 5), stride = 1, padding = 'same'   |       ReLU          |            (28, 28, 4)                     |\n",
    "| max pooling     | pool_size = (2, 2), stride = 2                           |       -             |            (14, 14, 4)                     |\n",
    "| convolution     | kernel size = (3, 3), stride = 1, padding = 'valid'|       ReLU          |            (12, 12, 8)                     |\n",
    "| max pooling     | pool_size = (2, 2), stride = 2                           |       -             |            (6, 6, 8)                       |\n",
    "| dense |       |       ReLU          |            (128)                     |\n",
    "| dense |        |       ReLU          |            (64)                      |\n",
    "| dense |         |       Softmax       |            (10)                      |\n",
    "\n"
   ]
  },
  {
   "cell_type": "code",
   "execution_count": 21,
   "id": "709c40ab",
   "metadata": {},
   "outputs": [
    {
     "name": "stdout",
     "output_type": "stream",
     "text": [
      "Model: \"sequential\"\n",
      "_________________________________________________________________\n",
      " Layer (type)                Output Shape              Param #   \n",
      "=================================================================\n",
      " conv2d (Conv2D)             (None, 28, 28, 4)         104       \n",
      "                                                                 \n",
      " max_pooling2d (MaxPooling2D  (None, 14, 14, 4)        0         \n",
      " )                                                               \n",
      "                                                                 \n",
      " conv2d_1 (Conv2D)           (None, 12, 12, 8)         296       \n",
      "                                                                 \n",
      " max_pooling2d_1 (MaxPooling  (None, 6, 6, 8)          0         \n",
      " 2D)                                                             \n",
      "                                                                 \n",
      " flatten (Flatten)           (None, 288)               0         \n",
      "                                                                 \n",
      " dense (Dense)               (None, 128)               36992     \n",
      "                                                                 \n",
      " dense_1 (Dense)             (None, 64)                8256      \n",
      "                                                                 \n",
      " dense_2 (Dense)             (None, 10)                650       \n",
      "                                                                 \n",
      "=================================================================\n",
      "Total params: 46,298\n",
      "Trainable params: 46,298\n",
      "Non-trainable params: 0\n",
      "_________________________________________________________________\n",
      "None\n"
     ]
    },
    {
     "name": "stderr",
     "output_type": "stream",
     "text": [
      "2023-03-28 13:40:54.438174: I tensorflow/core/platform/cpu_feature_guard.cc:193] This TensorFlow binary is optimized with oneAPI Deep Neural Network Library (oneDNN) to use the following CPU instructions in performance-critical operations:  SSE4.1 SSE4.2\n",
      "To enable them in other operations, rebuild TensorFlow with the appropriate compiler flags.\n"
     ]
    }
   ],
   "source": [
    "# BUILDING MODEL\n",
    "\n",
    "# At this point we are building the FashionNet model. We used the table above to provide the appropriate \n",
    "# parameters for the model. We also referenced the keras layers library\n",
    "# to understand the parameters required for each of the different layers. We also used the keras sequential \n",
    "# function to understand how to connect different layers for this model. \n",
    "# Certain layers in the model have requirements that others do not, such as the first convolution layer requires \n",
    "# a specification of the initial input shape. Then the model will\n",
    "# comprehend the next layers depending on the operation done with the specific parameters. The configuration \n",
    "# and activation columns provided me with the appropriate parameters\n",
    "# to be used at each point in the layer, but it took us a bit more time to analyze the model to specify \n",
    "# parameters such as filter size in the conv2d, or units in the dense layers.\n",
    "# In order to determine these values we looked at the output dimensions, to see what size we should have \n",
    "# after each layer. The final dimension of the output gave us our filter size,\n",
    "# and the only value in the dimension of the dense layers allowed us to determine the unit size. We also \n",
    "# needed to incorporate a flatten layer in order to condense the max pooling\n",
    "# layer output to one dimension. This was the only way in order to get the dense layers to fully connect, \n",
    "# and work appropriately. \n",
    " \n",
    "model  = tf.keras.Sequential([\n",
    "    tf.keras.layers.Conv2D(4,kernel_size=(5,5),strides = 1, padding=\"same\",activation=\"relu\",input_shape=(28,28,1)),\n",
    "    tf.keras.layers.MaxPooling2D(pool_size=(2,2),strides = 2),\n",
    "    tf.keras.layers.Conv2D(8,kernel_size=(3,3),strides=1,padding=\"valid\",activation=\"relu\"),\n",
    "    tf.keras.layers.MaxPooling2D(pool_size=(2,2),strides = 2),\n",
    "    tf.keras.layers.Flatten(input_shape=(6, 6)),\n",
    "    tf.keras.layers.Dense(128,activation='relu'), \n",
    "    tf.keras.layers.Dense(64,activation='relu'),\n",
    "    tf.keras.layers.Dense(10)\n",
    "])\n",
    "\n",
    "# After the model was implemented, we printed the summary of the model and it matched up with the table provided. \n",
    "print(model.summary())\n"
   ]
  },
  {
   "cell_type": "code",
   "execution_count": 22,
   "id": "da959e25",
   "metadata": {},
   "outputs": [],
   "source": [
    "# References:\n",
    "# 1. https://www.tensorflow.org/api_docs/python/tf/keras/layers\n",
    "# 2. https://www.tensorflow.org/api_docs/python/tf/keras/Sequential\n"
   ]
  },
  {
   "cell_type": "code",
   "execution_count": 23,
   "id": "30645bc5",
   "metadata": {},
   "outputs": [],
   "source": [
    "# Compile the model\n",
    "# The parameters for this model were sourced from the tutorial, and other parameters may be changed out \n",
    "# depending on the preferences of user and the necessities of the model.\n",
    "# In this case, these parameters provided us with an appropriate accuracy.\n",
    "model.compile(optimizer='adam',\n",
    "              loss=tf.keras.losses.SparseCategoricalCrossentropy(from_logits=True), \n",
    "              metrics=['accuracy'])\n",
    "# Optimizer updates the model based on data and loss function\n",
    "\n",
    "# Metrics is used to monitor the training and testing steps, in this case it uses accuracy\n",
    "# on correct guesses to train the model\n",
    "\n",
    "# Loss function measures the accuracy of the model and will be minized to steer model in the correct direction\n"
   ]
  },
  {
   "cell_type": "code",
   "execution_count": 24,
   "id": "83a12ca6",
   "metadata": {},
   "outputs": [],
   "source": [
    "# References:\n",
    "# 1. https://www.tensorflow.org/api_docs/python/tf/keras/Model#compile"
   ]
  },
  {
   "cell_type": "code",
   "execution_count": 26,
   "id": "c93ee0fe",
   "metadata": {},
   "outputs": [
    {
     "name": "stdout",
     "output_type": "stream",
     "text": [
      "Epoch 1/30\n",
      "1594/1594 [==============================] - 6s 3ms/step - loss: 0.5303 - accuracy: 0.8088 - val_loss: 0.3999 - val_accuracy: 0.8573\n",
      "Epoch 2/30\n",
      "1594/1594 [==============================] - 5s 3ms/step - loss: 0.3616 - accuracy: 0.8704 - val_loss: 0.3371 - val_accuracy: 0.8752\n",
      "Epoch 3/30\n",
      "1594/1594 [==============================] - 5s 3ms/step - loss: 0.3159 - accuracy: 0.8849 - val_loss: 0.3322 - val_accuracy: 0.8811\n",
      "Epoch 4/30\n",
      "1594/1594 [==============================] - 5s 3ms/step - loss: 0.2893 - accuracy: 0.8926 - val_loss: 0.2919 - val_accuracy: 0.8924\n",
      "Epoch 5/30\n",
      "1594/1594 [==============================] - 5s 3ms/step - loss: 0.2690 - accuracy: 0.9011 - val_loss: 0.2964 - val_accuracy: 0.8937\n",
      "Epoch 6/30\n",
      "1594/1594 [==============================] - 5s 3ms/step - loss: 0.2535 - accuracy: 0.9060 - val_loss: 0.2855 - val_accuracy: 0.8959\n",
      "Epoch 7/30\n",
      "1594/1594 [==============================] - 5s 3ms/step - loss: 0.2400 - accuracy: 0.9103 - val_loss: 0.2831 - val_accuracy: 0.8956\n",
      "Epoch 8/30\n",
      "1594/1594 [==============================] - 5s 3ms/step - loss: 0.2258 - accuracy: 0.9162 - val_loss: 0.2696 - val_accuracy: 0.9016\n",
      "Epoch 9/30\n",
      "1594/1594 [==============================] - 5s 3ms/step - loss: 0.2148 - accuracy: 0.9205 - val_loss: 0.2744 - val_accuracy: 0.9021\n",
      "Epoch 10/30\n",
      "1594/1594 [==============================] - 5s 3ms/step - loss: 0.2035 - accuracy: 0.9239 - val_loss: 0.2832 - val_accuracy: 0.8971\n",
      "Epoch 11/30\n",
      "1594/1594 [==============================] - 5s 3ms/step - loss: 0.1958 - accuracy: 0.9270 - val_loss: 0.2666 - val_accuracy: 0.9047\n",
      "Epoch 12/30\n",
      "1594/1594 [==============================] - 5s 3ms/step - loss: 0.1830 - accuracy: 0.9301 - val_loss: 0.2782 - val_accuracy: 0.9052\n",
      "Epoch 13/30\n",
      "1594/1594 [==============================] - 5s 3ms/step - loss: 0.1756 - accuracy: 0.9343 - val_loss: 0.2795 - val_accuracy: 0.9037\n",
      "Epoch 14/30\n",
      "1594/1594 [==============================] - 5s 3ms/step - loss: 0.1669 - accuracy: 0.9372 - val_loss: 0.2921 - val_accuracy: 0.8950\n",
      "Epoch 15/30\n",
      "1594/1594 [==============================] - 5s 3ms/step - loss: 0.1589 - accuracy: 0.9391 - val_loss: 0.3101 - val_accuracy: 0.8997\n",
      "Epoch 16/30\n",
      "1594/1594 [==============================] - 5s 3ms/step - loss: 0.1515 - accuracy: 0.9422 - val_loss: 0.3166 - val_accuracy: 0.8979\n",
      "Epoch 17/30\n",
      "1594/1594 [==============================] - 5s 3ms/step - loss: 0.1423 - accuracy: 0.9462 - val_loss: 0.3066 - val_accuracy: 0.9003\n",
      "Epoch 18/30\n",
      "1594/1594 [==============================] - 5s 3ms/step - loss: 0.1339 - accuracy: 0.9493 - val_loss: 0.3190 - val_accuracy: 0.9023\n",
      "Epoch 19/30\n",
      "1594/1594 [==============================] - 5s 3ms/step - loss: 0.1294 - accuracy: 0.9511 - val_loss: 0.3221 - val_accuracy: 0.9021\n",
      "Epoch 20/30\n",
      "1594/1594 [==============================] - 5s 3ms/step - loss: 0.1226 - accuracy: 0.9527 - val_loss: 0.3248 - val_accuracy: 0.9078\n",
      "Epoch 21/30\n",
      "1594/1594 [==============================] - 5s 3ms/step - loss: 0.1196 - accuracy: 0.9545 - val_loss: 0.3269 - val_accuracy: 0.9042\n",
      "Epoch 22/30\n",
      "1594/1594 [==============================] - 5s 3ms/step - loss: 0.1116 - accuracy: 0.9579 - val_loss: 0.3635 - val_accuracy: 0.9030\n",
      "Epoch 23/30\n",
      "1594/1594 [==============================] - 5s 3ms/step - loss: 0.1067 - accuracy: 0.9600 - val_loss: 0.3485 - val_accuracy: 0.9024\n",
      "Epoch 24/30\n",
      "1594/1594 [==============================] - 5s 3ms/step - loss: 0.1021 - accuracy: 0.9610 - val_loss: 0.3633 - val_accuracy: 0.9054\n",
      "Epoch 25/30\n",
      "1594/1594 [==============================] - 5s 3ms/step - loss: 0.0962 - accuracy: 0.9637 - val_loss: 0.3763 - val_accuracy: 0.9011\n",
      "Epoch 26/30\n",
      "1594/1594 [==============================] - 5s 3ms/step - loss: 0.0938 - accuracy: 0.9635 - val_loss: 0.3892 - val_accuracy: 0.9051\n",
      "Epoch 27/30\n",
      "1594/1594 [==============================] - 5s 3ms/step - loss: 0.0885 - accuracy: 0.9665 - val_loss: 0.3873 - val_accuracy: 0.9031\n",
      "Epoch 28/30\n",
      "1594/1594 [==============================] - 5s 3ms/step - loss: 0.0827 - accuracy: 0.9690 - val_loss: 0.4301 - val_accuracy: 0.8989\n",
      "Epoch 29/30\n",
      "1594/1594 [==============================] - 5s 3ms/step - loss: 0.0804 - accuracy: 0.9701 - val_loss: 0.4403 - val_accuracy: 0.8961\n",
      "Epoch 30/30\n",
      "1594/1594 [==============================] - 5s 3ms/step - loss: 0.0766 - accuracy: 0.9709 - val_loss: 0.4649 - val_accuracy: 0.8973\n"
     ]
    }
   ],
   "source": [
    "# TRAIN THE MODEL\n",
    "\n",
    "# In this step we are training the model accoring to the training images. We also needed to specifiy a \n",
    "# number of epochs to train the model, and a value to split the data for\n",
    "# for validation data. Without the validation split, the data was split into 85% training, and 15% testing. \n",
    "# We decided to use a 15% validation split because it balanced underfitting\n",
    "# and overfitting the data. We achieved the necessary accuracy levels when we used this validation split. \n",
    "# We also intally used 15 epochs to train the model, but we realized that\n",
    "# it was not enough in order to train the model. We were not reaching the appropriate accuracy levels. \n",
    "# Therefore we continously increased the epochs to reach that value.\n",
    "# However after reviewing the data, it may have been beneficial to stop between 15 and 20 since the the model \n",
    "# loss in the validation set began to increase which is a sign that the\n",
    "# model is overfitting to the data.\n",
    "\n",
    "history = model.fit(train_images, train_labels, epochs=30, validation_split=0.15) # fits the model to the training data\n",
    "\n",
    "# As you can see from the final output, the model achieves an accuracy of 97% on the training images"
   ]
  },
  {
   "cell_type": "code",
   "execution_count": 27,
   "id": "d9e42ce4",
   "metadata": {},
   "outputs": [],
   "source": [
    "# References: \n",
    "# 1. https://www.tensorflow.org/api_docs/python/tf/keras/Model#fit"
   ]
  },
  {
   "cell_type": "code",
   "execution_count": 28,
   "id": "0acf703f",
   "metadata": {},
   "outputs": [
    {
     "name": "stdout",
     "output_type": "stream",
     "text": [
      "dict_keys(['loss', 'accuracy', 'val_loss', 'val_accuracy'])\n"
     ]
    },
    {
     "data": {
      "text/plain": [
       "<matplotlib.legend.Legend at 0x7ff5c8ca1420>"
      ]
     },
     "execution_count": 28,
     "metadata": {},
     "output_type": "execute_result"
    },
    {
     "data": {
      "image/png": "[encoded data removed]",
      "text/plain": [
       "<Figure size 2000x500 with 2 Axes>"
      ]
     },
     "metadata": {},
     "output_type": "display_data"
    }
   ],
   "source": [
    "# Graphing Accuracy and loss\n",
    "# The model has a key indicators that show how the model accuracy and loss changed over the epochs\n",
    "# We are using these keys in order to display the results of the training.\n",
    "\n",
    "print(history.history.keys())# Printed out the model keys in order to use to graph loss and accuracy.\n",
    "plt.figure(figsize=(20,5))\n",
    "plt.subplot(1,2,1)\n",
    "plt.plot(history.history['accuracy'])\n",
    "plt.plot(history.history['val_accuracy'])\n",
    "plt.title('Model Accuracy')\n",
    "plt.ylabel('Accuracy')\n",
    "plt.xlabel('Epoch')\n",
    "plt.legend(['train', 'validation'], loc='upper right')\n",
    "plt.subplot(1,2,2)\n",
    "plt.plot(history.history['loss'])\n",
    "plt.plot(history.history['val_loss'])\n",
    "plt.title('Model Loss')\n",
    "plt.ylabel('Loss')\n",
    "plt.xlabel('Epoch')\n",
    "plt.legend(['train', 'validation'], loc='upper right')"
   ]
  },
  {
   "cell_type": "code",
   "execution_count": 30,
   "id": "a03981ad",
   "metadata": {},
   "outputs": [],
   "source": [
    "# References: \n",
    "# 1. https://machinelearningmastery.com/display-deep-learning-model-training-history-in-keras/\n",
    "# 2. https://matplotlib.org/stable/api/_as_gen/matplotlib.pyplot.subplots.html\n",
    "# 3. https://www.tensorflow.org/api_docs/python/tf/keras/callbacks/History"
   ]
  },
  {
   "cell_type": "code",
   "execution_count": 31,
   "id": "3bcf6e6d",
   "metadata": {},
   "outputs": [
    {
     "name": "stdout",
     "output_type": "stream",
     "text": [
      "313/313 - 0s - loss: 0.4960 - accuracy: 0.8908 - 404ms/epoch - 1ms/step\n",
      "\n",
      "Test accuracy: 0.8907999992370605\n"
     ]
    }
   ],
   "source": [
    "# Evaluating Accuracy\n",
    "test_loss, test_acc = model.evaluate(test_images,  test_labels, verbose=2)\n",
    "\n",
    "print('\\nTest accuracy:', test_acc)\n",
    "\n",
    "# Here we are testing to see how the model will generalize new images. As a result, the model \n",
    "# classified 89% of the images correctly which is in the acceptable range of accuracy. The\n",
    "# evaluate function will run the model on the new testing images."
   ]
  },
  {
   "cell_type": "code",
   "execution_count": 32,
   "id": "d7e20e92",
   "metadata": {},
   "outputs": [
    {
     "name": "stdout",
     "output_type": "stream",
     "text": [
      "313/313 [==============================] - 0s 1ms/step\n"
     ]
    }
   ],
   "source": [
    "# Making Predictions\n",
    "# Adding a softmax layer to convert the models linear outputs to probablities \n",
    "probability_model = tf.keras.Sequential([model,tf.keras.layers.Softmax()])\n",
    "predictions = probability_model.predict(test_images)"
   ]
  },
  {
   "cell_type": "code",
   "execution_count": 33,
   "id": "88bde50a",
   "metadata": {},
   "outputs": [
    {
     "data": {
      "text/plain": [
       "array([3.1783580e-09, 5.2347536e-16, 1.3829230e-14, 4.6803455e-12,\n",
       "       1.9228367e-16, 9.4899888e-06, 3.7175095e-08, 6.5694592e-05,\n",
       "       1.4298997e-11, 9.9992478e-01], dtype=float32)"
      ]
     },
     "execution_count": 33,
     "metadata": {},
     "output_type": "execute_result"
    }
   ],
   "source": [
    "predictions[0] # Printing probabilities for the testing image"
   ]
  },
  {
   "cell_type": "code",
   "execution_count": 34,
   "id": "b932ee3c",
   "metadata": {},
   "outputs": [
    {
     "data": {
      "text/plain": [
       "9"
      ]
     },
     "execution_count": 34,
     "metadata": {},
     "output_type": "execute_result"
    }
   ],
   "source": [
    "np.argmax(predictions[0])# Printing the index with the largest probability for classification"
   ]
  },
  {
   "cell_type": "code",
   "execution_count": 35,
   "id": "c7be1bb2",
   "metadata": {},
   "outputs": [
    {
     "data": {
      "text/plain": [
       "9"
      ]
     },
     "execution_count": 35,
     "metadata": {},
     "output_type": "execute_result"
    }
   ],
   "source": [
    "test_labels[0] # Comparing label data to predicted label"
   ]
  },
  {
   "cell_type": "code",
   "execution_count": 36,
   "id": "f1b79049",
   "metadata": {},
   "outputs": [],
   "source": [
    "# As you can see from the two cells above, the testing label and prediction for the first testing\n",
    "# image is the same. This is a small example to show that the model is working appropriately and\n",
    "# making accurate classifications."
   ]
  },
  {
   "cell_type": "code",
   "execution_count": 37,
   "id": "3d8f9ddd",
   "metadata": {},
   "outputs": [
    {
     "data": {
      "image/png": "[encoded data removed]",
      "text/plain": [
       "<Figure size 600x300 with 2 Axes>"
      ]
     },
     "metadata": {},
     "output_type": "display_data"
    },
    {
     "data": {
      "image/png": "[encoded data removed]",
      "text/plain": [
       "<Figure size 600x300 with 2 Axes>"
      ]
     },
     "metadata": {},
     "output_type": "display_data"
    }
   ],
   "source": [
    "# Graphing to view the full set of 10 class predictions\n",
    "# This code was sourced from the tutorial we needed to follow for this section and helps\n",
    "# us visualize the models accuracy. As you can see from the images, the model was able to \n",
    "# easily identify an ankle boot with 100% certainty, but was unable to classify the sneaker.\n",
    "# This leaves us with the question to change some parameters when initally training the model.\n",
    "# Potentially lowering the number of epochs or changing the validation split. In any case, \n",
    "# there is room for improvement, but this model is classifying most images correctly. It still\n",
    "# needs to be able to generalize more images and get closer to the training images accuracy.\n",
    "\n",
    "def plot_image(i, predictions_array, true_label, img):\n",
    "    true_label, img = true_label[i], img[i]\n",
    "    plt.grid(False)\n",
    "    plt.xticks([])\n",
    "    plt.yticks([])\n",
    "\n",
    "    plt.imshow(img, cmap=plt.cm.binary)\n",
    "    predicted_label = np.argmax(predictions_array)\n",
    "    if predicted_label == true_label:\n",
    "        color ='blue'\n",
    "    else:\n",
    "        color ='red'\n",
    "    plt.xlabel(\"{} {:2.0f}% ({})\".format(class_names[predicted_label],\n",
    "                                100*np.max(predictions_array),\n",
    "                                class_names[true_label]),\n",
    "                                color=color)\n",
    "    \n",
    "def plot_value_array(i,predictions_array,true_label):\n",
    "    true_label = true_label[i]\n",
    "    plt.grid(False)\n",
    "    plt.xticks(range(10))\n",
    "    plt.yticks([])\n",
    "    thisplot = plt.bar(range(10), predictions_array, color=\"#777777\")\n",
    "    plt.ylim([0,1])\n",
    "    predicted_label = np.argmax(predictions_array)\n",
    "\n",
    "    thisplot[predicted_label].set_color('red')\n",
    "    thisplot[true_label].set_color('blue')\n",
    "i = 0\n",
    "plt.figure(figsize=(6,3))\n",
    "plt.subplot(1,2,1)\n",
    "plot_image(i, predictions[i], test_labels, test_images)\n",
    "plt.subplot(1,2,2)\n",
    "plot_value_array(i, predictions[i],  test_labels)\n",
    "plt.show()\n",
    "i = 12\n",
    "plt.figure(figsize=(6,3))\n",
    "plt.subplot(1,2,1)\n",
    "plot_image(i, predictions[i], test_labels, test_images)\n",
    "plt.subplot(1,2,2)\n",
    "plot_value_array(i, predictions[i],  test_labels)\n",
    "plt.show()"
   ]
  },
  {
   "cell_type": "code",
   "execution_count": 38,
   "id": "071b42da",
   "metadata": {},
   "outputs": [],
   "source": [
    "# References: \n",
    "# 1. https://www.tensorflow.org/tutorials/keras/classification"
   ]
  },
  {
   "cell_type": "code",
   "execution_count": 39,
   "id": "39a296db",
   "metadata": {},
   "outputs": [
    {
     "data": {
      "image/png": "[encoded data removed]",
      "text/plain": [
       "<Figure size 1200x1000 with 30 Axes>"
      ]
     },
     "metadata": {},
     "output_type": "display_data"
    }
   ],
   "source": [
    "# Plotting several images with their predictions\n",
    "# Correct = blue, Incorrect = red\n",
    "# This code was also sourced from the tutorial for this section and provides us with in array\n",
    "# of images and their classifcation confidence. As we mentioned before the model was able to \n",
    "# classify most images correctly with high certainty. \n",
    "num_rows = 5\n",
    "num_cols = 3\n",
    "num_images = num_rows*num_cols\n",
    "plt.figure(figsize=(2*2*num_cols, 2*num_rows))\n",
    "for i in range(num_images):\n",
    "  plt.subplot(num_rows, 2*num_cols, 2*i+1)\n",
    "  plot_image(i, predictions[i], test_labels, test_images)\n",
    "  plt.subplot(num_rows, 2*num_cols, 2*i+2)\n",
    "  plot_value_array(i, predictions[i], test_labels)\n",
    "plt.tight_layout()\n",
    "plt.show()\n"
   ]
  },
  {
   "cell_type": "code",
   "execution_count": 40,
   "id": "258aa7e7",
   "metadata": {},
   "outputs": [],
   "source": [
    "# References: \n",
    "# 1. https://www.tensorflow.org/tutorials/keras/classification"
   ]
  },
  {
   "cell_type": "code",
   "execution_count": 41,
   "id": "73acd591",
   "metadata": {},
   "outputs": [
    {
     "name": "stdout",
     "output_type": "stream",
     "text": [
      "1/1 [==============================] - 0s 17ms/step\n",
      "[[7.3257507e-07 1.6925451e-24 9.9954271e-01 3.5971715e-15 1.7015852e-13\n",
      "  5.0262643e-24 4.5654835e-04 2.0553587e-25 1.4050548e-16 8.5275011e-21]]\n",
      "2\n"
     ]
    },
    {
     "data": {
      "image/png": "[encoded data removed]",
      "text/plain": [
       "<Figure size 640x480 with 1 Axes>"
      ]
     },
     "metadata": {},
     "output_type": "display_data"
    }
   ],
   "source": [
    "# Making prediction about a singular image\n",
    "# This section is a final validation portion that make a prediction on a singular image\n",
    "# and prints out its classification confidence for that image. \n",
    "# This code was also sourced from the tutorial for this section.\n",
    "\n",
    "# Using the trained model\n",
    "\n",
    "img = test_images[1]\n",
    "#print(img.shape)\n",
    "\n",
    "# Must extend the dimensions of the image since the model we are using works on a batch of images\n",
    "img = (np.expand_dims(img,0))\n",
    "#print(img.shape)\n",
    "\n",
    "predictions_single = probability_model.predict(img)\n",
    "print(predictions_single)\n",
    "plot_value_array(1,predictions_single[0],test_labels)\n",
    "_ = plt.xticks(range(10),class_names,rotation=45)\n",
    "print(np.argmax(predictions_single[0]))\n",
    "plt.show()\n"
   ]
  },
  {
   "cell_type": "code",
   "execution_count": 42,
   "id": "4fbd5c3f",
   "metadata": {},
   "outputs": [],
   "source": [
    "# References: \n",
    "# 1. https://www.tensorflow.org/tutorials/keras/classification"
   ]
  },
  {
   "cell_type": "code",
   "execution_count": 43,
   "id": "3cec64bc",
   "metadata": {},
   "outputs": [
    {
     "name": "stderr",
     "output_type": "stream",
     "text": [
      "WARNING:absl:Found untraced functions such as _jit_compiled_convolution_op, _jit_compiled_convolution_op while saving (showing 2 of 2). These functions will not be directly callable after loading.\n"
     ]
    },
    {
     "name": "stdout",
     "output_type": "stream",
     "text": [
      "INFO:tensorflow:Assets written to: cnn_model/assets\n"
     ]
    },
    {
     "name": "stderr",
     "output_type": "stream",
     "text": [
      "INFO:tensorflow:Assets written to: cnn_model/assets\n"
     ]
    }
   ],
   "source": [
    "# 3. Save Model\n",
    "# In this final section, we are saving the model to be used later on when we are converting\n",
    "# the model to the tflite version. \n",
    "model.save(\"cnn_model\")"
   ]
  },
  {
   "cell_type": "markdown",
   "id": "728f912a",
   "metadata": {
    "scrolled": false
   },
   "source": [
    "### Convert Your Trained Model to TFLite model\n",
    "\n",
    "Before you start the migration process of your trained model onto our edge devices, Raspberry Pi 4, please make sure you have followed the previous steps carefully and have a properly trained TF model with reasonable accuracy on the validation dataset.\n",
    "\n",
    "Now, locate the directory where your trained model files are saved and create a TFLite converter ready for the next step. \n",
    "\n",
    "Please refer to [this document][tf_lite_converter] for more information on the TFLite model.\n",
    "\n",
    "[tf_lite_converter]:https://www.tensorflow.org/lite/api_docs/python/tf/lite/TFLiteConverter#from_saved_model"
   ]
  },
  {
   "cell_type": "code",
   "execution_count": 47,
   "id": "6d595b18",
   "metadata": {},
   "outputs": [
    {
     "name": "stderr",
     "output_type": "stream",
     "text": [
      "2023-03-28 14:56:55.587573: W tensorflow/compiler/mlir/lite/python/tf_tfl_flatbuffer_helpers.cc:362] Ignored output_format.\n",
      "2023-03-28 14:56:55.587593: W tensorflow/compiler/mlir/lite/python/tf_tfl_flatbuffer_helpers.cc:365] Ignored drop_control_dependency.\n",
      "2023-03-28 14:56:55.587699: I tensorflow/cc/saved_model/reader.cc:45] Reading SavedModel from: /Users/lorenzo/Documents/UIUC/Y2-S2/ECE479/lab2_sp23/cnn_model\n",
      "2023-03-28 14:56:55.589092: I tensorflow/cc/saved_model/reader.cc:89] Reading meta graph with tags { serve }\n",
      "2023-03-28 14:56:55.589100: I tensorflow/cc/saved_model/reader.cc:130] Reading SavedModel debug info (if present) from: /Users/lorenzo/Documents/UIUC/Y2-S2/ECE479/lab2_sp23/cnn_model\n",
      "2023-03-28 14:56:55.593431: I tensorflow/cc/saved_model/loader.cc:229] Restoring SavedModel bundle.\n",
      "2023-03-28 14:56:55.645152: I tensorflow/cc/saved_model/loader.cc:213] Running initialization op on SavedModel bundle at path: /Users/lorenzo/Documents/UIUC/Y2-S2/ECE479/lab2_sp23/cnn_model\n",
      "2023-03-28 14:56:55.656050: I tensorflow/cc/saved_model/loader.cc:305] SavedModel load for tags { serve }; Status: success: OK. Took 68351 microseconds.\n"
     ]
    },
    {
     "data": {
      "text/plain": [
       "188812"
      ]
     },
     "execution_count": 47,
     "metadata": {},
     "output_type": "execute_result"
    }
   ],
   "source": [
    "# TODO: Convert to TFLite\n",
    "# In this step, we are converting the previously saved model into tflite so that it can be\n",
    "# run on our Raspberry Pi. We are using the TFLiteConverter to convert this model.\n",
    "# I am then writing this converted model to the directory to be used in the RPI4. \n",
    "converter = tf.lite.TFLiteConverter.from_saved_model(\"/Users/lorenzo/Documents/UIUC/Y2-S2/ECE479/lab2_sp23/cnn_model\")\n",
    "tflite_model = converter.convert()\n",
    "open(\"converted_model.tflite\",\"wb\").write(tflite_model)"
   ]
  },
  {
   "cell_type": "code",
   "execution_count": 48,
   "id": "615a0bf4",
   "metadata": {},
   "outputs": [],
   "source": [
    "# References: \n",
    "# 1. ECE 479 Lecture 11, Slide 7\n",
    "# 2. https://www.tensorflow.org/lite/api_docs/python/tf/lite/TFLiteConverter#from_saved_model"
   ]
  },
  {
   "cell_type": "markdown",
   "id": "8171c68b",
   "metadata": {},
   "source": [
    "### Optimize your TFLite model with post-trainning quantization\n",
    "With the converter, we can directly transform our model to TFLite model; however, edge and IoT devices are usually low-powered and relatively lack computational power compared to PC. Therefore, to further enhance the performance, you can apply the post-training quantization technique before deploying the model onto the Raspberry Pi.\n",
    "\n",
    "Notice that, although the post-training quantization is similar to the quantization and retrain technique that we will introduce in Lecture 12, since the model will not be retrained after the quantization, the impact on the accuracy of the model is usually larger.\n",
    "\n",
    "In this part, you will need to apply two quantization methods, namely, **Dynamic range quantization** and **Full integer quantization**, listed in [this document][post-trainning quantization] to your pre-trained models and compare the accuracy and performance.\n",
    "\n",
    "1) For dynamic range quantization, quantization parameters are automatically detected and generated by TensorFlow. Please write a piece of code to convert your original trained model into a TFLite model using dynamic range quantization.  \n",
    "\n",
    "2) For integer quantization, TensorFlow needs to sample the dataset you used for training the models to estimate the **MIN** and **MAX** values. This process can be described as \"representative data generation\". An example representative data generator is\n",
    "```Python\n",
    "def representative_data_gen():\n",
    "  for input_value in tf.data.Dataset.from_tensor_slices(trainning_dataset).batch(1).take(100):\n",
    "    yield [input_value]\n",
    "```\n",
    "\n",
    "You will need to define your own representative data generator function and properly select the following parameters as below:\n",
    "```Python\n",
    "# dataset used for training\n",
    "trainning_set\n",
    "# batch number x\n",
    ".batch(x)\n",
    "# input y\n",
    ".take(y)\n",
    "```\n",
    "\n",
    "Please refer to this [official document][from_tensor_slices] for explanations on the **from_tensor_slices()** API. On the same page, you will also learn about how the TensorFlow ***tf.Data.Dataset*** format works.\n",
    "\n",
    "[from_tensor_slices]:https://www.tensorflow.org/api_docs/python/tf/data/Dataset#from_tensor_slices\n",
    "[post-trainning quantization]:https://www.tensorflow.org/lite/performance/post_training_quantization"
   ]
  },
  {
   "cell_type": "code",
   "execution_count": 49,
   "id": "21fb5d96",
   "metadata": {},
   "outputs": [
    {
     "name": "stderr",
     "output_type": "stream",
     "text": [
      "2023-03-28 15:08:22.461715: W tensorflow/compiler/mlir/lite/python/tf_tfl_flatbuffer_helpers.cc:362] Ignored output_format.\n",
      "2023-03-28 15:08:22.461730: W tensorflow/compiler/mlir/lite/python/tf_tfl_flatbuffer_helpers.cc:365] Ignored drop_control_dependency.\n",
      "2023-03-28 15:08:22.461837: I tensorflow/cc/saved_model/reader.cc:45] Reading SavedModel from: /Users/lorenzo/Documents/UIUC/Y2-S2/ECE479/lab2_sp23/cnn_model\n",
      "2023-03-28 15:08:22.463169: I tensorflow/cc/saved_model/reader.cc:89] Reading meta graph with tags { serve }\n",
      "2023-03-28 15:08:22.463182: I tensorflow/cc/saved_model/reader.cc:130] Reading SavedModel debug info (if present) from: /Users/lorenzo/Documents/UIUC/Y2-S2/ECE479/lab2_sp23/cnn_model\n",
      "2023-03-28 15:08:22.467292: I tensorflow/cc/saved_model/loader.cc:229] Restoring SavedModel bundle.\n",
      "2023-03-28 15:08:22.520119: I tensorflow/cc/saved_model/loader.cc:213] Running initialization op on SavedModel bundle at path: /Users/lorenzo/Documents/UIUC/Y2-S2/ECE479/lab2_sp23/cnn_model\n",
      "2023-03-28 15:08:22.531125: I tensorflow/cc/saved_model/loader.cc:305] SavedModel load for tags { serve }; Status: success: OK. Took 69288 microseconds.\n"
     ]
    },
    {
     "data": {
      "text/plain": [
       "53752"
      ]
     },
     "execution_count": 49,
     "metadata": {},
     "output_type": "execute_result"
    }
   ],
   "source": [
    "# TODO:\n",
    "# 1. Dynamic range quantization\n",
    "# For the dynamic range quantization, we loaded the model as before with the TFLiteConverter.\n",
    "# Then we applied an optimization to reduce memory usage and allow for faster computation.\n",
    "# This quantization provides 8-bits of precision.\n",
    "\n",
    "dynamic_converter = tf.lite.TFLiteConverter.from_saved_model(\"/Users/lorenzo/Documents/UIUC/Y2-S2/ECE479/lab2_sp23/cnn_model\")\n",
    "\n",
    "\n",
    "dynamic_converter.optimizations = [tf.lite.Optimize.DEFAULT]\n",
    "tflite_quant_model_dyn = dynamic_converter.convert()\n",
    "open(\"dynamic_converted_model.tflite\",\"wb\").write(tflite_quant_model_dyn)\n"
   ]
  },
  {
   "cell_type": "code",
   "execution_count": 50,
   "id": "27f8530f",
   "metadata": {},
   "outputs": [],
   "source": [
    "# References: \n",
    "# 1. ECE 479 Lecture 12, Slide 14\n",
    "# 2. https://www.tensorflow.org/lite/performance/post_training_quantization"
   ]
  },
  {
   "cell_type": "code",
   "execution_count": 51,
   "id": "fab91e91",
   "metadata": {},
   "outputs": [
    {
     "name": "stderr",
     "output_type": "stream",
     "text": [
      "2023-03-28 15:19:21.927703: W tensorflow/compiler/mlir/lite/python/tf_tfl_flatbuffer_helpers.cc:362] Ignored output_format.\n",
      "2023-03-28 15:19:21.927722: W tensorflow/compiler/mlir/lite/python/tf_tfl_flatbuffer_helpers.cc:365] Ignored drop_control_dependency.\n",
      "2023-03-28 15:19:21.927837: I tensorflow/cc/saved_model/reader.cc:45] Reading SavedModel from: /Users/lorenzo/Documents/UIUC/Y2-S2/ECE479/lab2_sp23/cnn_model\n",
      "2023-03-28 15:19:21.929132: I tensorflow/cc/saved_model/reader.cc:89] Reading meta graph with tags { serve }\n",
      "2023-03-28 15:19:21.929140: I tensorflow/cc/saved_model/reader.cc:130] Reading SavedModel debug info (if present) from: /Users/lorenzo/Documents/UIUC/Y2-S2/ECE479/lab2_sp23/cnn_model\n",
      "2023-03-28 15:19:21.933410: I tensorflow/cc/saved_model/loader.cc:229] Restoring SavedModel bundle.\n",
      "2023-03-28 15:19:21.984569: I tensorflow/cc/saved_model/loader.cc:213] Running initialization op on SavedModel bundle at path: /Users/lorenzo/Documents/UIUC/Y2-S2/ECE479/lab2_sp23/cnn_model\n",
      "2023-03-28 15:19:21.996686: I tensorflow/cc/saved_model/loader.cc:305] SavedModel load for tags { serve }; Status: success: OK. Took 68849 microseconds.\n",
      "INFO: Initialized TensorFlow Lite runtime.\n",
      "fully_quantize: 0, inference_type: 6, input_inference_type: UINT8, output_inference_type: UINT8\n"
     ]
    },
    {
     "data": {
      "text/plain": [
       "51808"
      ]
     },
     "execution_count": 51,
     "metadata": {},
     "output_type": "execute_result"
    }
   ],
   "source": [
    "# TODO:\n",
    "# 2. Full integer quantization\n",
    "# We applied the full integer quantization model which provides lower latency, reducitons in\n",
    "# memory usage, and is integer quantized. Before looping through the dataset and picking\n",
    "# representatives, we needed to expand the dimension size of the training images in order to\n",
    "# specify a batch size. Errors will occur with dimension sizing if this expansion is not done.\n",
    "# After looping through the images, we did the same steps as before with using the TFLiteConverter\n",
    "# to load the saved model, apply the optimizations. For this quantization we need to set up\n",
    "# a quantization scheme but specifying suppported ops and the input/output type which needs\n",
    "# be a uint8, to cover the full range.\n",
    "\n",
    "import numpy as np\n",
    "train_images_expanded = np.expand_dims(train_images, axis=3)\n",
    "\n",
    "def representative_dataset():\n",
    "    for data in tf.data.Dataset.from_tensor_slices(train_images_expanded).batch(1).take(100):\n",
    "        yield [tf.dtypes.cast(data,tf.float32)]\n",
    "\n",
    "# Get saved model, instantiate the converter\n",
    "representative_converter = tf.lite.TFLiteConverter.from_saved_model(\"/Users/lorenzo/Documents/UIUC/Y2-S2/ECE479/lab2_sp23/cnn_model\")\n",
    "representative_converter.optimizations = [tf.lite.Optimize.DEFAULT]\n",
    "#Specifiy the representative dataset\n",
    "representative_converter.representative_dataset = representative_dataset\n",
    "#Setup quantization scheme\n",
    "representative_converter.target_spec.supported_ops = [tf.lite.OpsSet.TFLITE_BUILTINS_INT8]\n",
    "representative_converter.inference_input_type = tf.uint8\n",
    "representative_converter.inference_output_type = tf.uint8\n",
    "\n",
    "\n",
    "\n",
    "tflite_quant_model_rep = representative_converter.convert()\n",
    "open(\"representative_converted_model.tflite\",\"wb\").write(tflite_quant_model_rep)"
   ]
  },
  {
   "cell_type": "code",
   "execution_count": 52,
   "id": "52b0887e",
   "metadata": {},
   "outputs": [],
   "source": [
    "# References: \n",
    "# 1. ECE 479 Lecture 12, Slide 15\n",
    "# 2. https://www.tensorflow.org/lite/performance/post_training_quantization"
   ]
  },
  {
   "cell_type": "markdown",
   "id": "6d5e2050",
   "metadata": {},
   "source": [
    "### Save and deploy your TFLite model\n",
    "Save your converted TFLite models as binary files. Example code:\n",
    "```Python\n",
    "# Save the model.\n",
    "with open('model.tflite', 'wb') as f:\n",
    "  f.write(tflite_model)\n",
    "```\n",
    "\n",
    "To run execute the TFLite model on the RPi, you can refer to [this example][TFLite] for the details. In general, the following code is the standard process.\n",
    "#### Step 1: load the model and allocate the tensors\n",
    "We first need to instantiate the model with the TFLite model file, and then allocate all the tensors.\n",
    "```Python\n",
    "# Load the TFLite model and allocate tensors.\n",
    "interpreter = tf.lite.Interpreter(model_path=\"model.tflite\")\n",
    "interpreter.allocate_tensors()\n",
    "```\n",
    "#### Step 2: Check input and output info\n",
    "To get the input and output tensor's names and their corresponding sizes, we will first need do the following steps to extract these information.\n",
    "```Python\n",
    "# Get input and output tensors.\n",
    "input_details = interpreter.get_input_details()\n",
    "output_details = interpreter.get_output_details()\n",
    "```\n",
    "#### Step 3: Set input tensor and run the model\n",
    "Once we got the input tensor's name and shape, we can then set the input tensor and run the model.\n",
    "```Python\n",
    "# Test the model on random input data.\n",
    "input_shape = input_details[0]['shape']\n",
    "interpreter.set_tensor(input_details[0]['index'], input_data)\n",
    "\n",
    "# Run the model\n",
    "interpreter.invoke()\n",
    "```\n",
    "#### Step 4: Extract the output tensor\n",
    "We can finally run the `get_tensor(...)` function again to extract the output.\n",
    "```Python\n",
    "# The function `get_tensor()` returns a copy of the tensor data.\n",
    "# Use `tensor()` in order to get a pointer to the tensor.\n",
    "output_data = interpreter.get_tensor(output_details[0]['index'])\n",
    "print(output_data)\n",
    "```\n",
    "Once you confirm that the model is deployable on your RPi, you are ready to use the Coral Edge TPU to accelerate your computing. Please follow this [tutorial][TPU] to run your converted TFLite model on your Raspberry Pi with the Edge TPU.\n",
    "\n",
    "**Please convert your model with these two different methods and report their corresponding accuracy and inference time with the TFLite model on the RPi with and without the Edge TPU. Compare and comment on what you observed in the report.**\n",
    "\n",
    "[TFLite]:https://www.tensorflow.org/lite/guide/inference#load_and_run_a_model_in_python\n",
    "[TPU]:https://coral.ai/docs/accelerator/get-started/#3-run-a-model-on-the-edge-tpu"
   ]
  },
  {
   "cell_type": "code",
   "execution_count": 54,
   "id": "3f28bdbe",
   "metadata": {},
   "outputs": [],
   "source": [
    "import time # importing time to print time\n",
    "# For all of the following steps until part 3 followed a similar pattern, and all have similar\n",
    "# code. Essentially we followed the steps given above to convert the model save and deploy the\n",
    "# tflite model. The only difference is that we implemented a loop to iterate through the testing\n",
    "# images, we expanded the dimension the testing images to fit into the model input (correct batch\n",
    "# size), changed the type of the data appropriately for each model, and compared the output data\n",
    "# with the label data to create an accuracy of the model. \n",
    "\n",
    "# For the models that needed to be run on the Raspberry Pi, we did not use the tf.lite.Interpreter, \n",
    "# and instead used tflite_runtime.interpreter library to load the model. Everything else is the same\n",
    "\n",
    "# Finally, for the models that were run on the Raspberry Pi and used the coral, we just changed\n",
    "# one line from the code previously used on the Pi. We added this parameter, \n",
    "# experimental_delegates=[tflite.load_delegate('libedgetpu.so.1')], to the interperter in order\n",
    "# to allocate resources to the coral and speed up computation. "
   ]
  },
  {
   "cell_type": "code",
   "execution_count": 59,
   "id": "5ed8559f",
   "metadata": {},
   "outputs": [
    {
     "name": "stdout",
     "output_type": "stream",
     "text": [
      "88.92% Accurate\n",
      "Time Taken: 5.877351760864258 seconds\n"
     ]
    }
   ],
   "source": [
    "# Full Integer Quantization on PC\n",
    "# In the full integer, we did one more thing to the steps above which was to unnormalize the data\n",
    "# so the model will work appropriately. \n",
    "interpreter = tf.lite.Interpreter(model_path=\"representative_converted_model.tflite\")\n",
    "interpreter.allocate_tensors()\n",
    "input_details = interpreter.get_input_details()\n",
    "output_details = interpreter.get_output_details()\n",
    "input_shape = input_details[0]['shape'] \n",
    "start = time.time() #starting the time\n",
    "counter =0\n",
    "test_images_unnormalized=test_images*255.0 # unnormalizing the data\n",
    "for i in range(10000): # looping through testing images\n",
    "    test_images_reshaped = np.expand_dims(test_images_unnormalized, axis=3)# expanding the dimension\n",
    "    # of the testing images\n",
    "    test_images_reshaped = test_images_reshaped[i:i+1]# choosing one image at a time\n",
    "\n",
    "    test_images_reshaped_float32 = test_images_reshaped.astype('uint8')# changing the data type\n",
    "\n",
    "    interpreter.set_tensor(input_details[0]['index'], test_images_reshaped_float32)\n",
    "    interpreter.invoke()\n",
    "    output_data = interpreter.get_tensor(output_details[0]['index'])# attaining output data\n",
    "    predicted_class = np.argmax(output_data)\n",
    "    if(predicted_class==test_labels[i]):\n",
    "        counter+=1 # if classified correctly increment counter\n",
    "end = time.time()\n",
    "print(f'{counter/10000 * 100}% Accurate\\nTime Taken: {end-start} seconds')#prints accuracy"
   ]
  },
  {
   "cell_type": "code",
   "execution_count": 60,
   "id": "d7b6c6dc",
   "metadata": {},
   "outputs": [],
   "source": [
    "# Full Integer Quantization on Raspberry Pi\n",
    "# DO NOT RUN WONT COMPILE WITH TFLITE_RUNTIME\n",
    "import time\n",
    "import tflite_runtime.interpreter as tflite #imported a new library, tflite_runtime to\n",
    "# load the models\n",
    "import numpy as np\n",
    "\n",
    "interpreter = tflite.Interpreter(model_path=\"representative_converted_model.tflite\") # This\n",
    "# is the only line that was changed in order to run the RPi, refer to comments above\n",
    "interpreter.allocate_tensors()\n",
    "input_details = interpreter.get_input_details()\n",
    "output_details = interpreter.get_output_details()\n",
    "input_shape = input_details[0]['shape']\n",
    "start = time.time()\n",
    "\n",
    "test_images = np.load(\"test_images.npy\")# loading the testing images and labels\n",
    "test_images*=255.0\n",
    "test_labels = np.load(\"test_labels.npy\")\n",
    "counter =0\n",
    "\n",
    "for i in range(10000):\n",
    "\ttest_images_reshaped = np.expand_dims(test_images,axis=3)\n",
    "\ttest_images_reshaped = test_images_reshaped[i:i+1]\n",
    "\t\n",
    "\t\n",
    "\ttest_images_reshaped_float32 = test_images_reshaped.astype('uint8')\n",
    "\tinterpreter.set_tensor(input_details[0]['index'],test_images_reshaped_float32)\n",
    "\tinterpreter.invoke()\n",
    "\toutput_data = interpreter.get_tensor(output_details[0]['index'])\n",
    "\tpredicted_class = np.argmax(output_data)\n",
    "\tif(predicted_class==test_labels[i]):\n",
    "\t\tcounter+=1\n",
    "end=time.time()\n",
    "print(f'{counter/10000*100}% Accurate\\nTime Taken:{end-start}')\n",
    "\n",
    "\t"
   ]
  },
  {
   "cell_type": "code",
   "execution_count": 58,
   "id": "58d420ed",
   "metadata": {},
   "outputs": [],
   "source": [
    "# Full Integer Quantization with Edge TPU on Raspberry Pi\n",
    "# DO NOT RUN WONT COMPILE WITH TFLITE_RUNTIME\n",
    "import time\n",
    "import tflite_runtime.interpreter as tflite\n",
    "import numpy as np\n",
    "\n",
    "# Added the experimental delegates parameter in order to load computational power from \n",
    "# the coral in order to speed up calculations. Only changed this line.\n",
    "\n",
    "interpreter = tflite.Interpreter(model_path=\"representative_converted_model.tflite\",experimental_delegates=[tflite.load_delegate('libedgetpu.so.1')])\n",
    "interpreter.allocate_tensors()\n",
    "input_details = interpreter.get_input_details()\n",
    "output_details = interpreter.get_output_details()\n",
    "input_shape = input_details[0]['shape']\n",
    "start = time.time()\n",
    "\n",
    "test_images = np.load(\"test_images.npy\")# loading the testing images and labels\n",
    "test_images*=255.0\n",
    "test_labels = np.load(\"test_labels.npy\")# loading the testing images and labels\n",
    "counter =0\n",
    "\n",
    "for i in range(10000):\n",
    "\ttest_images_reshaped = np.expand_dims(test_images,axis=3)\n",
    "\ttest_images_reshaped = test_images_reshaped[i:i+1]\n",
    "\t\n",
    "\t\n",
    "\ttest_images_reshaped_float32 = test_images_reshaped.astype('uint8')\n",
    "\tinterpreter.set_tensor(input_details[0]['index'],test_images_reshaped_float32)\n",
    "\tinterpreter.invoke()\n",
    "\toutput_data = interpreter.get_tensor(output_details[0]['index'])\n",
    "\tpredicted_class = np.argmax(output_data)\n",
    "\tif(predicted_class==test_labels[i]):\n",
    "\t\tcounter+=1\n",
    "end=time.time()\n",
    "print(f'{counter/10000*100}% Accurate\\nTime Taken:{end-start}')\n",
    "\n",
    "\t"
   ]
  },
  {
   "cell_type": "code",
   "execution_count": 61,
   "id": "f7adce51",
   "metadata": {},
   "outputs": [
    {
     "name": "stderr",
     "output_type": "stream",
     "text": [
      "INFO: Applying 1 TensorFlow Lite delegate(s) lazily.\n"
     ]
    },
    {
     "name": "stdout",
     "output_type": "stream",
     "text": [
      "89.02% Accurate\n",
      "Time Taken: 1.383821964263916 seconds\n"
     ]
    }
   ],
   "source": [
    "# Dynamic Quantization on PC\n",
    "interpreter = tf.lite.Interpreter(model_path=\"dynamic_converted_model.tflite\")\n",
    "interpreter.allocate_tensors()\n",
    "input_details = interpreter.get_input_details()\n",
    "output_details = interpreter.get_output_details()\n",
    "input_shape = input_details[0]['shape']\n",
    "start = time.time()# starting the time\n",
    "counter =0\n",
    "\n",
    "for i in range(10000):# iteating through the testing images\n",
    "    test_images_reshaped = np.expand_dims(test_images, axis=3)#expanding dimensions to specify\n",
    "    # batch size\n",
    "    test_images_reshaped = test_images_reshaped[i:i+1]#choose one image at a time\n",
    "\n",
    "    test_images_reshaped_float32 = test_images_reshaped.astype(np.float32)# change\n",
    "    # the testing data to be of type float32. \n",
    "\n",
    "    interpreter.set_tensor(input_details[0]['index'], test_images_reshaped_float32)\n",
    "    interpreter.invoke()\n",
    "    output_data = interpreter.get_tensor(output_details[0]['index'])# getting output data\n",
    "    predicted_class = np.argmax(output_data) # choosing largest value to classify data\n",
    "    if(predicted_class==test_labels[i]):# if the classification label is equal to the testing\n",
    "        #label then we can increment the counter\n",
    "        counter+=1\n",
    "end = time.time()\n",
    "print(f'{counter/10000 * 100}% Accurate\\nTime Taken: {end-start} seconds')# printing accuracy/time"
   ]
  },
  {
   "cell_type": "code",
   "execution_count": null,
   "id": "c7c5cbb8",
   "metadata": {},
   "outputs": [],
   "source": [
    "# Dynamic Quantization on Raspberry Pi\n",
    "# DO NOT RUN WONT COMPILE WITH TFLITE_RUNTIME\n",
    "import time\n",
    "import tflite_runtime.interpreter as tflite\n",
    "import numpy as np\n",
    "# same as before, importing a new library and loading the model with the tflite library.\n",
    "# everything else is the exact same\n",
    "interpreter = tflite.Interpreter(model_path=\"dynamic_converted_model.tflite\")\n",
    "interpreter.allocate_tensors()\n",
    "input_details = interpreter.get_input_details()\n",
    "output_details = interpreter.get_output_details()\n",
    "input_shape = input_details[0]['shape']\n",
    "start = time.time()\n",
    "\n",
    "test_images = np.load(\"test_images.npy\")\n",
    "test_labels = np.load(\"test_labels.npy\")\n",
    "counter =0\n",
    "\n",
    "for i in range(10000):\n",
    "\ttest_images_reshaped = np.expand_dims(test_images,axis=3)\n",
    "\ttest_images_reshaped = test_images_reshaped[i:i+1]\n",
    "\t\n",
    "\ttest_images_reshaped_float32 = test_images_reshaped.astype(np.float32)\n",
    "\t\n",
    "\tinterpreter.set_tensor(input_details[0]['index'],test_images_reshaped_float32)\n",
    "\tinterpreter.invoke()\n",
    "\toutput_data = interpreter.get_tensor(output_details[0]['index'])\n",
    "\tpredicted_class = np.argmax(output_data)\n",
    "\tif(predicted_class==test_labels[i]):\n",
    "\t\tcounter+=1\n",
    "end=time.time()\n",
    "print(f'{counter/10000*100}% Accurate\\nTime Taken:{end-start}')\n",
    "\n",
    "\t"
   ]
  },
  {
   "cell_type": "code",
   "execution_count": null,
   "id": "02490fe5",
   "metadata": {},
   "outputs": [],
   "source": [
    "# Dynamic Quantization with Edge TPU on Raspberry Pi\n",
    "# DO NOT RUN WONT COMPILE WITH TFLITE_RUNTIME\n",
    "import time\n",
    "import tflite_runtime.interpreter as tflite\n",
    "import numpy as np\n",
    "\n",
    "# Added the experimental delegates parameter in order to load computational power from \n",
    "# the coral in order to speed up calculations. Only changed this line.\n",
    "interpreter = tflite.Interpreter(model_path=\"dynamic_converted_model.tflite\",experimental_delegates=[tflite.load_delegate('libedgetpu.so.1')])\n",
    "interpreter.allocate_tensors()\n",
    "input_details = interpreter.get_input_details()\n",
    "output_details = interpreter.get_output_details()\n",
    "input_shape = input_details[0]['shape']\n",
    "start = time.time()\n",
    "\n",
    "test_images = np.load(\"test_images.npy\")\n",
    "test_labels = np.load(\"test_labels.npy\")\n",
    "counter =0\n",
    "\n",
    "for i in range(10000):\n",
    "\ttest_images_reshaped = np.expand_dims(test_images,axis=3)\n",
    "\ttest_images_reshaped = test_images_reshaped[i:i+1]\n",
    "\t\n",
    "\ttest_images_reshaped_float32 = test_images_reshaped.astype(np.float32)\n",
    "\t\n",
    "\tinterpreter.set_tensor(input_details[0]['index'],test_images_reshaped_float32)\n",
    "\tinterpreter.invoke()\n",
    "\toutput_data = interpreter.get_tensor(output_details[0]['index'])\n",
    "\tpredicted_class = np.argmax(output_data)\n",
    "\tif(predicted_class==test_labels[i]):\n",
    "\t\tcounter+=1\n",
    "end=time.time()\n",
    "print(f'{counter/10000*100}% Accurate\\nTime Taken:{end-start}')\n",
    "\n",
    "\t"
   ]
  },
  {
   "cell_type": "code",
   "execution_count": 62,
   "id": "7e1a193f",
   "metadata": {},
   "outputs": [
    {
     "name": "stderr",
     "output_type": "stream",
     "text": [
      "INFO: Applying 1 TensorFlow Lite delegate(s) lazily.\n"
     ]
    },
    {
     "name": "stdout",
     "output_type": "stream",
     "text": [
      "89.08% Accurate\n",
      "Time Taken: 1.3227782249450684 seconds\n"
     ]
    }
   ],
   "source": [
    "# Normal Model on PC\n",
    "# taking same steps as specified before this section, and making a floating 32 bit data type\n",
    "# for the input data. \n",
    "interpreter = tf.lite.Interpreter(model_path=\"converted_model.tflite\")# loading the model with\n",
    "# interpreter with tensorflow library\n",
    "interpreter.allocate_tensors()\n",
    "input_details = interpreter.get_input_details()\n",
    "output_details = interpreter.get_output_details()\n",
    "input_shape = input_details[0]['shape']\n",
    "start = time.time()\n",
    "counter =0\n",
    "\n",
    "for i in range(10000):\n",
    "    train_images_reshaped = np.expand_dims(test_images, axis=3)# expanding dimensions of images\n",
    "    train_images_reshaped = train_images_reshaped[i:i+1]# choosing one image at a time\n",
    "\n",
    "    train_images_reshaped_float32 = train_images_reshaped.astype(np.float32)# changing\n",
    "    # image datatype to float32\n",
    "\n",
    "    interpreter.set_tensor(input_details[0]['index'], train_images_reshaped_float32)\n",
    "    interpreter.invoke()\n",
    "    output_data = interpreter.get_tensor(output_details[0]['index'])# getting the output tensor\n",
    "    predicted_class = np.argmax(output_data)\n",
    "    if(predicted_class==test_labels[i]):# if the current output tensor max value index is the\n",
    "        # same as the test label then it increments the classification accuracy.\n",
    "        counter+=1\n",
    "end = time.time()\n",
    "print(f'{counter/10000 * 100}% Accurate\\nTime Taken: {end-start} seconds')"
   ]
  },
  {
   "cell_type": "code",
   "execution_count": null,
   "id": "6b62d008",
   "metadata": {},
   "outputs": [],
   "source": [
    "# Normal Model on Raspberry Pi\n",
    "# DO NOT RUN WONT COMPILE WITH TFLITE_RUNTIME\n",
    "import time\n",
    "import tflite_runtime.interpreter as tflite\n",
    "import numpy as np\n",
    "\n",
    "# same as before, importing a new library and loading the model with the tflite library.\n",
    "# everything else is the exact same\n",
    "interpreter = tflite.Interpreter(model_path=\"converted_model.tflite\")\n",
    "interpreter.allocate_tensors()\n",
    "input_details = interpreter.get_input_details()\n",
    "output_details = interpreter.get_output_details()\n",
    "input_shape = input_details[0]['shape']\n",
    "start = time.time()\n",
    "\n",
    "test_images = np.load(\"test_images.npy\")\n",
    "test_labels = np.load(\"test_labels.npy\")\n",
    "counter =0\n",
    "\n",
    "for i in range(10000):\n",
    "\ttest_images_reshaped = np.expand_dims(test_images,axis=3)\n",
    "\ttest_images_reshaped = test_images_reshaped[i:i+1]\n",
    "\t\n",
    "\ttest_images_reshaped_float32 = test_images_reshaped.astype(np.float32)\n",
    "\t\n",
    "\tinterpreter.set_tensor(input_details[0]['index'],test_images_reshaped_float32)\n",
    "\tinterpreter.invoke()\n",
    "\toutput_data = interpreter.get_tensor(output_details[0]['index'])\n",
    "\tpredicted_class = np.argmax(output_data)\n",
    "\tif(predicted_class==test_labels[i]):\n",
    "\t\tcounter+=1\n",
    "end=time.time()\n",
    "print(f'{counter/10000*100}% Accurate\\nTime Taken:{end-start}')\n",
    "\n",
    "\t"
   ]
  },
  {
   "cell_type": "code",
   "execution_count": 20,
   "id": "6edb2a42",
   "metadata": {},
   "outputs": [],
   "source": [
    "# Normal Model with Edge TPU on Raspberry Pi\n",
    "# DO NOT RUN WONT COMPILE WITH TFLITE_RUNTIME\n",
    "import time\n",
    "import tflite_runtime.interpreter as tflite\n",
    "import numpy as np\n",
    "\n",
    "# Added the experimental delegates parameter in order to load computational power from \n",
    "# the coral in order to speed up calculations. Only changed this line.\n",
    "interpreter = tflite.Interpreter(model_path=\"converted_model.tflite\",experimental_delegates=[tflite.load_delegate('libedgetpu.so.1')])\n",
    "interpreter.allocate_tensors()\n",
    "input_details = interpreter.get_input_details()\n",
    "output_details = interpreter.get_output_details()\n",
    "input_shape = input_details[0]['shape']\n",
    "start = time.time()\n",
    "\n",
    "test_images = np.load(\"test_images.npy\")\n",
    "test_labels = np.load(\"test_labels.npy\")\n",
    "counter =0\n",
    "\n",
    "for i in range(10000):\n",
    "\ttest_images_reshaped = np.expand_dims(test_images,axis=3)\n",
    "\ttest_images_reshaped = test_images_reshaped[i:i+1]\n",
    "\t\n",
    "\ttest_images_reshaped_float32 = test_images_reshaped.astype(np.float32)\n",
    "\t\n",
    "\tinterpreter.set_tensor(input_details[0]['index'],test_images_reshaped_float32)\n",
    "\tinterpreter.invoke()\n",
    "\toutput_data = interpreter.get_tensor(output_details[0]['index'])\n",
    "\tpredicted_class = np.argmax(output_data)\n",
    "\tif(predicted_class==test_labels[i]):\n",
    "\t\tcounter+=1\n",
    "end=time.time()\n",
    "print(f'{counter/10000*100}% Accurate\\nTime Taken:{end-start}')"
   ]
  },
  {
   "cell_type": "code",
   "execution_count": 5,
   "id": "d4c7e0a1",
   "metadata": {},
   "outputs": [],
   "source": [
    "# Final Runtimes for models - We ran the notebook one more time and it affectted the times(overall is accurate)\n",
    "# Normal Model(No Quantization) on PC - 89.17% Accurate / Time Taken: 1.2978100776672363 seconds\n",
    "# Normal Model(No Quantization) on Raspberry Pi - 89.17% Accurate / Time Taken: 2.44 seconds\n",
    "# Normal Model(No Quantization) on Raspberry Pi with Edge TPU - 89.19% Accurate / Time Taken: 2.28 seconds\n",
    "\n",
    "# Dynamic Quantization - 89.19% Accurate / Time Taken: 1.3388352394104004 seconds\n",
    "# Dynamic Quantization on Raspberry Pi - 89.19% Accurate / Time Taken: 2.169 seconds\n",
    "# Dynamic Quantization on Raspberry Pi with Edge TPU - 89.19% Accurate / Time Taken: 2.11 seconds\n",
    "\n",
    "# Full Integer Quantization - 89.17% Accurate / Time Taken: 5.783653259277344 seconds\n",
    "# Full Integer Quantization on Raspberry Pi - 89.18% Accurate / Time Taken: 2.74 seconds\n",
    "# Full Integer Quantization on Raspberry Pi with Edge TPU - 89.18% Accurate / Time Taken: 2.86 seconds\n",
    "\n",
    "# There seems to be that there is no siginificant improvement of preformance because the models were not to complex \n",
    "# were already quantized in some cases. More improvement would not be seen in this case scenario, but if larger more \n",
    "# complex models were created then improvement would more likely be seen."
   ]
  },
  {
   "cell_type": "markdown",
   "id": "8572578a",
   "metadata": {},
   "source": [
    "## PART III: Face Detection and Recognition\n",
    "\n",
    "In part III, you will have a chance to utilize your Raspberry Pi 4 as a powerful edge platform for human face detection and recognition applications. You will need to capture valid images using your PiCamera and port them into the recognition neural network with proper processing.\n"
   ]
  },
  {
   "cell_type": "markdown",
   "id": "7c76878e",
   "metadata": {},
   "source": [
    "### Prepare a Pre-trained Convolutional Neural Network\n",
    "#### **Introduction** \n",
    "\n",
    "In this part, you will use the award-winning \"very deep neural network\" for face recognition. It is the ILSVRC 2014 winner, GoogLeNet, and it also has the name ***Inception ResNet v1***. For more information, please refer to this [review][review_googlenet], and the original paper could be found [here][googlenet_paper]. The goal of this part is to reconstruct the Inception ResNet v1 with Keras APIs, load the given pre-trained weights, and convert the whole model into a TFLite model. You will need the knowledge from the previous parts of the lab.\n",
    "\n",
    "![googleNet](figures/overview.png)\n",
    "\n",
    "The original GooLeNet (Inception ResNet v1) is huge and complex. It has 22 major layers and more than 10 milion trainable parameters. Thus, it will be painful to reconstruct it using the same way you learned in **Part II** of this lab, i.e., listing out all layers in order by using `keras.Sequential` function.\n",
    "\n",
    "There is a better way to define a model architecture. You can use the pre-built Keras APIs to reconstruct the Inception Resnet v1. You can find all the layers [here][tf_keras_modules]. It may be helpful to have this page opened on aside while working on this part.\n",
    "\n",
    "For example, to apply two `tf.keras.layers.Conv2D`layers to the existing model `x`, you just need to \n",
    "```Python\n",
    "from tensorflow.keras.layers import Conv2D\n",
    "x = Conv2D(...)(x)\n",
    "x = Conv2D(...)(x)\n",
    "```\n",
    "The output of model `x` on the left side will be connected by a new `Conv2D` layer and the resulting new model will be assigned to `x` on the right side. By doing this repeatedly in proper order, you achieve the same goal as using `keras.Sequential`.\n",
    "\n",
    "The given files structure is listed as,\n",
    "```bash\n",
    ".\n",
    "├── lab2_part3.py\n",
    "├── inception_resnet.py\n",
    "├── resnet_block.py\n",
    "├── conv2d_bn.py\n",
    "├── modules.py \n",
    "└── weights\n",
    "    └── inception_keras_weights.h5\n",
    "```\n",
    "\n",
    "We have provided the `modules.py` and `resnet_block.py` for you, and we expect you NOT to modify this file. You will need to implement code blocks within `conv2d_bn.py` and `inception_resnet.py` according to the instructions and parameters given to you. \n",
    "\n",
    "Because of the dependencies between functions, it's highly recommended that you implement the codes following the order of steps below. **Notice: while applying a new Keras layer, please make sure you include the `name=` argument.** This will not affect the functionality of your model, but it's helpful for you to locate problematic layers. You can follow the convention of the example blocks/layers to name your layers/blocks with the `name_fmt` and `generate_layer_name` function.\n",
    "\n",
    "[review_googlenet]:https://medium.com/coinmonks/paper-review-of-googlenet-inception-v1-winner-of-ilsvlc-2014-image-classification-c2b3565a64e7\n",
    "[googlenet_paper]:https://www.cs.unc.edu/~wliu/papers/GoogLeNet.pdf\n",
    "[tf_keras_modules]:https://www.tensorflow.org/api_docs/python/tf/keras/layers"
   ]
  },
  {
   "cell_type": "markdown",
   "id": "89e53328",
   "metadata": {},
   "source": [
    "#### Step 1: **Implement `conv2d_bn(*)` function**\n",
    "\n",
    "`conv2d_bn(*)` is defined in the `conv2d_bn.py`. We have imported all the Keras layer APIs for you, and thus you can directly use them by calling their names, such as [`Conv2D`][Conv2D] and [`Activation`][Activation].\n",
    "\n",
    "This function is relatively simple and helps you get familiar with the Keras format. Look for **`## TO DO`** in the function.\n",
    "\n",
    "`## TO DO Step1`: Apply a `Conv2D` layer to model `x`, with all useful parameters listed as arguments in the function signature of`conv2d_bn(*)`. Assign the new model back to `x`. When calling `Conv2D`, make sure all the available input arguments for the `conv2d_bn()` function are used.\n",
    "\n",
    "`## TO DO Step2`: Apply a Batch Normalization layer to model `x`, with \n",
    "\n",
    "| Arguments        | Values                        \n",
    "|---------------:|--------------------------------------:|\n",
    "| axis |             bn_axis          |          \n",
    "| momentum |              0.995          |          \n",
    "| epsilon |               0.001       |           \n",
    "| scale |               False       |    \n",
    "| name  |    bn_name  |\n",
    "\n",
    "`## TO DO Step3`: Apply an Activation layer to model `x`, with the argument `activation` passed into the `conv2d_bn(*)`. Use `ac_name` as the name for the layer.\n",
    "\n",
    "[Conv2D]:https://www.tensorflow.org/api_docs/python/tf/keras/layers/Conv2D\n",
    "[Activation]:https://www.tensorflow.org/api_docs/python/tf/keras/layers/Activation"
   ]
  },
  {
   "cell_type": "code",
   "execution_count": null,
   "id": "799ae597",
   "metadata": {},
   "outputs": [],
   "source": [
    "# DO NOT RUN IN NOTEBOOK, WONT RUN\n",
    "def conv2d_bn(x,\n",
    "              filters, # number of output channels\n",
    "              kernel_size,\n",
    "              strides=1,\n",
    "              padding='same',\n",
    "              activation='relu',\n",
    "              use_bias=False,\n",
    "              name=None):\n",
    "\n",
    "    ## DO NOT TOUCH\n",
    "    bn_axis = 1 if K.image_data_format() == 'channels_first' else 3\n",
    "    ##############################################################\n",
    "\n",
    "    ## TO DO Step1 : Apply a Conv 2D Keras Layer with all given parameters\n",
    "    # Your code goes here\n",
    "    # Convolution layer will take in the parameters given in the function paramters, \n",
    "    # I set all the respective parameters equivalent to each other.\n",
    "    # Then I connected the (x) at the end, which connects the previous layer to the current one\n",
    "    x = tf.keras.layers.Conv2D(filters = filters, kernel_size = kernel_size, strides = strides,padding = padding,use_bias= use_bias, name =name)(x)\n",
    "\n",
    "\n",
    "\n",
    "\n",
    "    if not use_bias:\n",
    "\n",
    "        bn_name = generate_layer_name('BatchNorm', prefix=name)\n",
    "        ## TO DO Step 2 : Apply a Batch Normalization Keras Layer with all given parameters\n",
    "        # Your code goes here\n",
    "        # Batch Normalization layer will have the correct parameters given the table above \n",
    "        # then added the (x), which connects the current layer to the previous\n",
    "        x = tf.keras.layers.BatchNormalization(axis=bn_axis, momentum=0.995, epsilon=0.001, scale=False, name= bn_name)(x)\n",
    "\n",
    "\n",
    "\n",
    "    if activation is not None:\n",
    "        ac_name = generate_layer_name('Activation', prefix=name)\n",
    "        ## TO DO Step 3 : Apply an Activation Keras Layer with all given parameters\n",
    "        # Your code goes here\n",
    "        # Activation layer will be activated due to the activation given at the function\n",
    "        # parameter. The activation is the relu for the network. (x) will also be added to the\n",
    "        # end in order to connect the layers.\n",
    "        x = tf.keras.layers.Activation(activation, name=ac_name)(x)\n",
    "\n",
    "\n",
    "\n",
    "    ###############################################################\n",
    "    return x"
   ]
  },
  {
   "cell_type": "markdown",
   "id": "72fe8179",
   "metadata": {},
   "source": [
    "#### Step 2: **Familiarize with `inception_resnet_block(*)` function**\n",
    "\n",
    "`inception_resnet_block(*)` is defined in the `resnet_block.py`. The function defines three different types of Inception ResNet blocks `Inception_block_a`, `Inception_block_b`and `Inception_block_c`.\n",
    "\n",
    "The function implements reusable building blocks for inception blocks in the Inception ResNet v1. You can imagine this function as the pre-built bricks in LEGO, and what you need to do is to put them in the proper places when you build the entire network.\n",
    "\n",
    "[ResNet][resnet_ex] or Residual Netoworks has a very special stucture called **shortcut**. \n",
    "\n",
    "<div>\n",
    "<img src=\"figures/resnet_shortcut.png\" width=\"200\">\n",
    "</div>\n",
    "\n",
    "\n",
    "In a more general sense, it allows multiple parallel paths, or \"branches\", through the neural network. These \"branches\" are merged or aggregated by a specific layer named `Concatenate`. For example, in `Inception_block_c`, we have two branches: `branch_0` and `branch_1`. `branch_0` has one Conv 2D layer with 192 output channels and a kernel size of *1x1*. `branch_1` has three Conv 2D layers with 192 output channels and kernel sizes of *1x1*, *1x3*, and *3x1*.\n",
    "\n",
    "<div>\n",
    "<img src=\"figures/inception_c.png\" width=\"200\">\n",
    "</div>\n",
    "\n",
    "\n",
    "\n",
    "[resnet_ex]:https://d2l.ai/chapter_convolutional-modern/resnet.html"
   ]
  },
  {
   "cell_type": "markdown",
   "id": "e7e2fc3e",
   "metadata": {},
   "source": [
    "#### Step 3: **Finish the Inception ResNet Structure**\n",
    "\n",
    "Now, with the building blocks that you have prepared in previous steps, you have three powerful tools to build the actual Inception ResNet v1, a very deep convolutional neural network that has 448 layers and sublayers. (You do not even want to list out all of these layers.)\n",
    "\n",
    "The overview of the Inception ResNet v1 is,\n",
    "\n",
    "<div>\n",
    "<img src=\"figures/inception_resnet_overview.png\">\n",
    "</div>\n",
    "\n",
    "\n",
    "You need `tensorflow.keras.layers`, `conv2d_bn(*)`, and `resnet_block(*)` to build the network. Follow the instructions and hints below to finish the whole convolutional neural network.\n",
    "\n",
    "`## TO DO Step1`: Finish the Maxpooling 2D preprocessing for model `x` with,\n",
    "\n",
    "| Layers          | Configuration                        |Output Dimensions |\n",
    "|---------------:|--------------------------------------:| ----------------------------------------: |\n",
    "| conv2d_bn |  input size = (79, 79, 32), kernel size = (3, 3), padding='valid' | (77, 77, 32) |\n",
    "| conv2d_bn |  connect to previous, kernel size = (3, 3) | (77, 77, 64) |     \n",
    "| MaxPooling2D |  connect to previous, pool_size = (2, 2), stride = 2   | (38, 38, 64) |\n",
    "| conv2d_bn |  connect to previous, kernel size = (1, 1), padding='valid' | (38, 38, 80) |\n",
    "| conv2d_bn |  connect to previous, kernel size = (3, 3), padding='valid'  | (36, 36, 192) |\n",
    "| conv2d_bn |  connect to previous, kernel size = (3, 3), stride = 2, padding='valid'  | (17, 17, 256) |\n",
    "  \n",
    "\n",
    "`## TO DO Step2`: Instantiate **5 connected** Inception ResNet *block_type_a* using,\n",
    "\n",
    "| scale         | block_idx       | block_type |\n",
    "|---------------:|------------:| --------------------------: |\n",
    "| 0.17 |  1 to 5 | Inception_block_a |\n",
    "\n",
    "`## TO DO Step3`: Instantiate **10 connected** Inception ResNet *block_type_b* using,\n",
    "\n",
    "| scale         | block_idx         | block_type |\n",
    "|---------------:|------------------:| -------------------------: |\n",
    "| 0.1 |  1 to 10 | Inception_block_b |\n",
    "\n",
    "`## TO DO Step4`: Instantiate **5 connected** Inception ResNet *block_type_c* using,\n",
    "\n",
    "| scale         | block_idx       | block_type |\n",
    "|---------------:|----------------:| -----------------: |\n",
    "| 0.2 |  1 to 5 | Inception_block_c |\n",
    "\n",
    "`## TO DO Step5`: Apply Global Average Pooling (`GloablAveragePooling2D(...)`) + Dropout (`Drop(...)`) layers to model `x`. You can find the documentation of these layers [here][GAP] and [here][Dropout]. For the Dropout layer, use `dropout_keep_prob` to properly calculate the `rate` argument of the `Dropout` layer. (Hint: what's the relationship between \"keep\" and \"dropout\"?)\n",
    "\n",
    "[GAP]:https://www.tensorflow.org/api_docs/python/tf/keras/layers/GlobalAveragePooling2D\n",
    "[DropOut]:https://www.tensorflow.org/api_docs/python/tf/keras/layers/Dropout"
   ]
  },
  {
   "cell_type": "code",
   "execution_count": null,
   "id": "0f8d7710",
   "metadata": {},
   "outputs": [],
   "source": [
    "def InceptionResNetV1Norm(input_shape=(160, 160, 3),\n",
    "                          classes=512,\n",
    "                          dropout_keep_prob=0.8,\n",
    "                          weights_path=None):\n",
    "\n",
    "    # DO NOT TOUCH\n",
    "    inputs = Input(shape=input_shape)\n",
    "    # Example of how to use conv2d_bn\n",
    "    # Note: this is also part of the netowrk, do not delete it\n",
    "    x = conv2d_bn(inputs,\n",
    "                  32,\n",
    "                  3,\n",
    "                  strides=2,\n",
    "                  padding='valid',\n",
    "                  name='Conv2d_1a_3x3')\n",
    "    ############################################\n",
    "\n",
    "    # Preprocess inputs by MaxPooling2D\n",
    "    ## TO DO Step 1 : Finish the implementation for preprocessing with given parameters\n",
    "    # Please name all layers properly to make it easy for your debugging\n",
    "    # Your code goes here\n",
    "\n",
    "    # For this first step, we connected each of the layers to each other by passing x as\n",
    "    # the first parameter of the conv2d_bn function. The number of output channels\n",
    "    # was decided by the final dimension of the output dimension for the layer.\n",
    "    # Then we added parameters to each layer as necessary, such as the needed padding\n",
    "    # or the kernel size, specified from the table and organized as the function is defined.\n",
    "    # Finally, it is important to mention that for the max pooling we added a (x) to connect\n",
    "    # the layer to the network. \n",
    "\n",
    "    x = conv2d_bn(x,32,(3,3),padding='valid',name='first_conv')\n",
    "    x = conv2d_bn(x,64,(3,3),name='second_conv')\n",
    "    x = tf.keras.layers.MaxPool2D(pool_size=(2,2), strides=2)(x)\n",
    "    x = conv2d_bn(x,80,(1,1),padding='valid',name='third_conv')\n",
    "    x = conv2d_bn(x,192,(3,3),padding='valid',name='fourth_conv')\n",
    "    x = conv2d_bn(x,256,(3,3),strides=2,padding='valid')\n",
    "\n",
    "    \n",
    "\n",
    "\n",
    "\n",
    "\n",
    "    ##############################################\n",
    "\n",
    "    # 5x Inception-ResNet-A block:\n",
    "    ## TO DO Step 2 : Finish the implementation for Inception-A block with given parameters\n",
    "    # Please name all blocks properly to make it easy for your debugging\n",
    "    # Hint : Use for loop to instantiate multiples reception blocks\n",
    "    # Your code goes here\n",
    "    \n",
    "    # In this step we created a loop to make 5 blocks where we increment the block index\n",
    "    # Since we pass through the x value to the first parameter, then we connect the layers.\n",
    "    # The other parameters were given from the table above, which set the scale to 0.17\n",
    "    # the block type to inception block a and the activation function to relu\n",
    "    for i in range(5):\n",
    "        x = resnet_block(x,scale=0.17,block_idx=i, block_type='Inception_block_a',activation='relu')\n",
    "    \n",
    "\n",
    "\n",
    "\n",
    "\n",
    "    ###############################################\n",
    "\n",
    "    # Mixed 6a (Reduction-A block):\n",
    "    channel_axis = 1 if K.image_data_format() == 'channels_first' else 3\n",
    "    name_fmt = partial(generate_layer_name, prefix='Mixed_6a')\n",
    "    branch_0 = conv2d_bn(x,\n",
    "                         384,\n",
    "                         3,\n",
    "                         strides=2,\n",
    "                         padding='valid',\n",
    "                         name=name_fmt('Conv2d_1a_3x3', 0))\n",
    "    branch_1 = conv2d_bn(x, 192, 1, name=name_fmt('Conv2d_0a_1x1', 1))\n",
    "    branch_1 = conv2d_bn(branch_1, 192, 3, name=name_fmt('Conv2d_0b_3x3', 1))\n",
    "    branch_1 = conv2d_bn(branch_1,\n",
    "                         256,\n",
    "                         3,\n",
    "                         strides=2,\n",
    "                         padding='valid',\n",
    "                         name=name_fmt('Conv2d_1a_3x3', 1))\n",
    "    branch_pool = MaxPooling2D(3,\n",
    "                               strides=2,\n",
    "                               padding='valid',\n",
    "                               name=name_fmt('MaxPool_1a_3x3', 2))(x)\n",
    "    branches = [branch_0, branch_1, branch_pool]\n",
    "    x = Concatenate(axis=channel_axis, name='Mixed_6a')(branches)\n",
    "\n",
    "    # 10x Inception-ResNet-B block:\n",
    "    ## TO DO Step 3 : Finish the implementation for Inception-B block with given parameters\n",
    "    # Please name all blocks properly to make it easy for your debugging\n",
    "    # Hint : Use for loop to instantiate multiples reception blocks\n",
    "    # Your code goes here\n",
    "    # In this step, we do the same thing as before execpt we run through 10 iterations where\n",
    "    # the block type is inception_block_b, then i also change the scale to 0.1 given through\n",
    "    # the table above.\n",
    "    for i in range(10):\n",
    "        x = resnet_block(x,scale=0.1,block_idx=i,block_type='Inception_block_b',activation='relu')\n",
    "\n",
    "\n",
    "\n",
    "\n",
    "    ###############################################\n",
    "\n",
    "    # Mixed 7a (Reduction-B block)\n",
    "    name_fmt = partial(generate_layer_name, prefix='Mixed_7a')\n",
    "    branch_0 = conv2d_bn(x, 256, 1, name=name_fmt('Conv2d_0a_1x1', 0))\n",
    "    branch_0 = conv2d_bn(branch_0,\n",
    "                         384,\n",
    "                         3,\n",
    "                         strides=2,\n",
    "                         padding='valid',\n",
    "                         name=name_fmt('Conv2d_1a_3x3', 0))\n",
    "    branch_1 = conv2d_bn(x, 256, 1, name=name_fmt('Conv2d_0a_1x1', 1))\n",
    "    branch_1 = conv2d_bn(branch_1,\n",
    "                         256,\n",
    "                         3,\n",
    "                         strides=2,\n",
    "                         padding='valid',\n",
    "                         name=name_fmt('Conv2d_1a_3x3', 1))\n",
    "    branch_2 = conv2d_bn(x, 256, 1, name=name_fmt('Conv2d_0a_1x1', 2))\n",
    "    branch_2 = conv2d_bn(branch_2, 256, 3, name=name_fmt('Conv2d_0b_3x3', 2))\n",
    "    branch_2 = conv2d_bn(branch_2,\n",
    "                         256,\n",
    "                         3,\n",
    "                         strides=2,\n",
    "                         padding='valid',\n",
    "                         name=name_fmt('Conv2d_1a_3x3', 2))\n",
    "    branch_pool = MaxPooling2D(3,\n",
    "                               strides=2,\n",
    "                               padding='valid',\n",
    "                               name=name_fmt('MaxPool_1a_3x3', 3))(x)\n",
    "    branches = [branch_0, branch_1, branch_2, branch_pool]\n",
    "    x = Concatenate(axis=channel_axis, name='Mixed_7a')(branches)\n",
    "\n",
    "    # 5x Inception-ResNet-C block:\n",
    "    ## TO DO Step 4 : Finish the implementation for Inception-B block with given parameters\n",
    "    # Please name all blocks properly to make it easy for your debugging\n",
    "    # Hint : Use for loop to instantiate multiples reception blocks\n",
    "    # Your code goes here\n",
    "\n",
    "    # In this step we are doing the same thing as before execpt we iterate through 5 iterations\n",
    "    # where we changed the scale to 0.2, and the inception block is c. Everything else remains\n",
    "    # the same. \n",
    "\n",
    "    for i in range(5):\n",
    "        x = resnet_block(x,scale=0.2,block_idx=i, block_type='Inception_block_c',activation='relu')\n",
    "\n",
    "\n",
    "\n",
    "\n",
    "    ###############################################\n",
    "\n",
    "    # Final Inception Block\n",
    "    x = resnet_block(x,\n",
    "                     scale=1.,\n",
    "                     block_idx=6,\n",
    "                     block_type='Inception_block_c',\n",
    "                     activation=None\n",
    "                               )\n",
    "\n",
    "\n",
    "    # Classification block\n",
    "    ## TO DO Step 5 : Apply Global Average pooling + Dropout layers\n",
    "    # Please name all blocks properly to make it easy for your debugging\n",
    "\n",
    "    # Finally in this step we were tasked with applying a global average pooling 2d layer,\n",
    "    # this layer does not require any parameters. The dropout layer then does require a parameter\n",
    "    # which will be the dropout rate. We are given the keep probability, and in order to find\n",
    "    # the dropout rate, we can take 1 and subtract it by the keep probability. This allows for\n",
    "    # prevention of overfitting. It is also important to mention that (x) is added to each\n",
    "    # layer in order to connect the layer to the network.\n",
    "    \n",
    "    x = tf.keras.layers.GlobalAveragePooling2D()(x)# Your code goes here (do not modify the variable name assigned to)\n",
    "    x = tf.keras.layers.Dropout(1-dropout_keep_prob)(x)# Your code goes here (do not modify the variable name assigned to)\n",
    "\n",
    "\n",
    "    ## DO NOT TOUCH\n",
    "    # (BottleNeck blcok with Normalization)\n",
    "    x = Dense(classes, use_bias=False, name='Bottleneck')(x)\n",
    "    bn_name = generate_layer_name('BatchNorm', prefix='Bottleneck')\n",
    "    x = BatchNormalization(momentum=0.995,\n",
    "                           epsilon=0.001,\n",
    "                           scale=False,\n",
    "                           name=bn_name)(x)\n",
    "    x = Lambda(K.l2_normalize, arguments={'axis': 1}, name='normalize')(x)\n",
    "\n",
    "    # Create model\n",
    "    model = Model(inputs, x, name='inception_resnet_v1')\n",
    "    if weights_path is not None:\n",
    "        model.load_weights(weights_path)\n",
    "\n",
    "    return model\n",
    "    #############################################################"
   ]
  },
  {
   "cell_type": "code",
   "execution_count": null,
   "id": "dd2fc232",
   "metadata": {},
   "outputs": [],
   "source": [
    "# Reference:\n",
    "# 1. https://www.tensorflow.org/api_docs/python/tf/keras/layers/GlobalAveragePooling2D\n",
    "# 2. https://www.tensorflow.org/api_docs/python/tf/keras/layers/Dropout"
   ]
  },
  {
   "cell_type": "markdown",
   "id": "0e823952",
   "metadata": {},
   "source": [
    "####  **Step 4: Compile the model and load weights**\n",
    "\n",
    "The structure of Inception ResNet v1 is completed and ready to be compiled. Implement your code in `lab2_part3.py`. This file will be the place where your main logic should go.\n",
    "\n",
    "To compile a model, simply do\n",
    "```Python\n",
    "model = InceptionResNetV1Norm();\n",
    "```\n",
    "**You may see some warnings due to TensorFlow version difference, but they do not usually matter.*\n",
    "\n",
    "Now try to print your model's summary to find out the number of trainable parameters and the number of layers. You will need these numbers while writing your report.\n",
    "\n",
    "To load the pre-trained weights, use `model.load_weights(*)`. We have prepared the weights for you located at `\"weights/inception_keras_weights.h5\"`.\n",
    "\n",
    "At this point, if your model loads without any other errors, then your model implementation is correct."
   ]
  },
  {
   "cell_type": "markdown",
   "id": "f728410e",
   "metadata": {},
   "source": [
    "#### Step 5: **Convert the model into TFLite model**\n",
    "If you reach here without any problem, your implementation for Inception ResNet v1 should be basically correct. \n",
    "\n",
    "Unfortunately, there is no easy way to partially verify your implementation, so if you meet any errors that stall the process, you should go back to previous steps to fix any existing problem before proceeding.\n",
    "\n",
    "Follow the same instructions as **Convert Your Trained Model to TFLite model** in **Part II**. You **do not** need to apply post-training quantization this time."
   ]
  },
  {
   "cell_type": "code",
   "execution_count": null,
   "id": "310bf545",
   "metadata": {},
   "outputs": [],
   "source": [
    "from inception_resnet import InceptionResNetV1Norm\n",
    "import numpy as np\n",
    "import tensorflow as tf\n",
    "\n",
    "# Compiled model and loaded weights\n",
    "# Most of this code is given in order to create the model and load weights.\n",
    "\n",
    "\n",
    "# Create a model\n",
    "model = InceptionResNetV1Norm()\n",
    "\n",
    "# Verify the model and load the weights into the net\n",
    "print(model.summary())\n",
    "print(len(model.layers))\n",
    "model.load_weights(\"./weights/inception_keras_weights.h5\")  # Has been translated from checkpoint\n",
    "\n",
    "# Converting model to TFLite model\n",
    "# I applied the conversion steps given previously in the lab.\n",
    "model.save(\"google_net\")\n",
    "converter = tf.lite.TFLiteConverter.from_saved_model(\"/Users/lorenzo/Documents/UIUC/Y2-S2/ECE479/lab2_sp23/code/google_net\")\n",
    "tflite_model = converter.convert()\n",
    "open(\"google_net_new2.tflite\",\"wb\").write(tflite_model)\n"
   ]
  },
  {
   "cell_type": "markdown",
   "id": "aaf34600",
   "metadata": {},
   "source": [
    "### Number of Parameters for Inception Resnet\n",
    "<div>\n",
    "<img src=\"figures/parameters.jpeg\">\n",
    "</div>"
   ]
  },
  {
   "cell_type": "markdown",
   "id": "2235ab28",
   "metadata": {},
   "source": [
    "### Face detection and recognition with MTCNN & FaceNet and integration with PiCamera\n",
    "\n",
    "Now that you have converted our network to a TensorFlow Lite model, you can start integrating all the components that you have implemented so far towards a more realistic face detection and recognition system."
   ]
  },
  {
   "cell_type": "markdown",
   "id": "48cd51bd",
   "metadata": {},
   "source": [
    "#### Step 1: Image capturing with PiCamera\n",
    "The first step of the work is to implement a simple function that can capture an image using the PiCamera and convert it to the forms that the neural networks can use. More specifically, in this lab, you will use the very basic image capturing feature of the PiCamera and transform the captured image into an OpenCV object.\n",
    "\n",
    "You can refer to the \"Capturing to an OpenCV object\" section of the [PiCamera package documentation][PiCamera] for the details of capturing images with the PiCamera and fill in the following image function with the given signature. The returned object should be a 3-D tensor, with the three channels in RGB order.\n",
    "\n",
    "[PiCamera]:https://picamera.readthedocs.io/en/release-1.10/recipes1.html#capturing-to-an-opencv-object"
   ]
  },
  {
   "cell_type": "code",
   "execution_count": 5,
   "id": "241d7539",
   "metadata": {},
   "outputs": [],
   "source": [
    "# Need to have all dependendices installed on machine in order to run this cell\n",
    "from mtcnn import MTCNN #importing the MTCNN library to find the face on the images/ did not use the tflite \n",
    "#library for this step\n",
    "import cv2 \n",
    "import numpy as np\n",
    "import matplotlib.pyplot as plt\n",
    "import io\n",
    "from picamera2 import Picamera2, Preview # the code given to us was using the picamera library but since we used \n",
    "#the 64 bit OS for the RPi we needed to use the picamera2 library\n",
    "# we replicated the function in order to work with the updated library.\n",
    "from matplotlib.patches import Rectangle\n",
    "\n",
    "import time\n",
    "def capture_image_func():\n",
    "\tpicam2 = Picamera2() # creates a camera\n",
    "\tpicam2.start_and_capture_file(\"im.jpg\") #Opens a camera window and takes a picture after a few seconds and \n",
    "    #saves it to a jpg file\n",
    "\t#image = cv2.imread(\"ke_huy\") # un-comment this line and comment the two lines above and one below in order \n",
    "    #to load an file to be the image captured\n",
    "\timage = cv2.imread(\"im.jpg\") # the picture taken above is then read using the cv2 file\n",
    "\timage = image[:,:,::-1] # Since the image is read using the imread function, the file will be read in the \n",
    "    #BGR format and will require the the final dimension to be inversed to be RGB\n",
    "\treturn image # returns the image"
   ]
  },
  {
   "cell_type": "markdown",
   "id": "9a542a5a",
   "metadata": {},
   "source": [
    "#### Step 2: Face detection\n",
    "\n",
    "In general, face detection can be seen as a special case of object detection, where there is only one object class, namely, \"human face\". The [Multi-Task Cascaded Convolutional Networks (MTCNN)][MTCNN] is one of the pioneering works in this area. It is purposedly built for detecting human faces and also identifying the keypoints (eyes, nose, and mouth). It is one of the most popular and successful networks in this area.\n",
    "\n",
    "For this part of the lab, you will use an easy-to-use Python package for MTCNN, which provides a simple API for performing face detections, which suites our needs for this lab. However, you should notice that, while having a convenient python package, MTCNN is not dedicated to real-time detection on mobile devices. Therefore the inference latency is a few seconds on the Raspberry Pi.\n",
    "\n",
    "For this step, you will first instantiate the MTCNN from the mtcnn package. Then, write a function that does the following operations. The function prototype is given to you:\n",
    "1. Perform face detection with MTCNN and extract the bounding box of the first image.\n",
    "2. Add a 20% margin to each dimension of the bounding box, such that the bounding box is 120% of the original size in each dimension. That is, the bounding box is expanded by 10% in each direction(up, down, left, right).\n",
    "3. Perform image cropping according to the coordinate of the extended bounding box.\n",
    "4. Return the cropped image and the coordinates (x, y, w, h) of the bounding box.\n",
    "5. Finally, display the bounding box in the original image.\n",
    "\n",
    "To help you implement the code, here are some useful tips and links:\n",
    "- For simplicity, you can assume that there is only one face in the input image.\n",
    "- The basic usage of MTCNN can be found in the MTCNN python package description [here][MTCNN_package]. As you may find out, the interface is very compact and intuitive. For this lab, you only need the 'box' from the output, which specifies the coordinates of a corner and the dimensions of the bounding box.\n",
    "- Performing the cropping on the OpenCV image is basically the same as working on a NumPy array, which you have already implemented in Lab 1. So you can borrow from your Lab 1 code if needed.\n",
    "- To help you to draw the bounding box, we provide a function here that can do it for you.\n",
    "\n",
    "[MTCNN]:https://kpzhang93.github.io/MTCNN_face_detection_alignment/\n",
    "[MTCNN_package]:https://pypi.org/project/mtcnn/"
   ]
  },
  {
   "cell_type": "code",
   "execution_count": 4,
   "id": "fa64c217",
   "metadata": {},
   "outputs": [],
   "source": [
    "def detect_and_crop(mtcnn,image):\n",
    "\tdetection = mtcnn.detect_faces(image)#uses the mtcnn library in order to detect the faces on in the image\n",
    "\tprint(type(detection))\n",
    "\tif len(detection) == 1: # detection will be a list of the number of faces that it detects, this means \n",
    "        #if there are zero faces that are detected then it should return nothing\n",
    "\t\t# we did not handle considering more than one face from the image, a possible improvement is to loop \n",
    "        # through this list of faces and return many faces.\n",
    "\t\tx,y,w,h = detection[0]['box'] # Indexes the first element of the list and then indexes the box list, \n",
    "        # this returns the coordinates of the top left point of the image and then the width and height\n",
    "\t\t# of the image\n",
    "\t\tx_new=int(x*0.9) # in order to give a 20% margin on this cropped image, we initally moved the x and y \n",
    "        # positions back 10% in each respective direction, we then used the int cast for specifc coordinate\n",
    "\t\ty_new=int(y*0.9)\n",
    "\t\tx_ext = int((w+x)*1.1)# We then added the width to the x position to find the current width position \n",
    "        # and add 10%\n",
    "\t\ty_ext = int((h+y)*1.1)# We than added the height to the y position to find the the current height \n",
    "        # poistion and add 10%\n",
    "\t\tcropped_image = image[y_new:y_ext,x_new:x_ext] # We then used array slicing based on the current x \n",
    "        # to width positions and y to height positions\n",
    "\t\tcv2.imwrite('quan_cropped.jpg',cropped_image)# We then passed this sliced image as a parameter of a \n",
    "        # imwrite function which writes a new image to the directory\n",
    "\t\treturn cropped_image,x,y,w,h # finally the image, and the coordinates of the image is returned\n",
    "\telse:\n",
    "\t\treturn None #return nothing if no faces present"
   ]
  },
  {
   "cell_type": "code",
   "execution_count": 3,
   "id": "5f057680",
   "metadata": {},
   "outputs": [],
   "source": [
    "# function provided for the students to draw the rectangle\n",
    "def show_bounding_box(image, bounding_box):\n",
    "\tx1, y1, w, h = bounding_box\n",
    "\tfig, ax = plt.subplots(1,1)\n",
    "\tax.imshow(image)\n",
    "\tax.add_patch(Rectangle((x1, y1), w, h, linewidth=1, edgecolor='r', facecolor='none'))\n",
    "\tplt.show()\n",
    "\treturn"
   ]
  },
  {
   "cell_type": "code",
   "execution_count": 3,
   "id": "db282f6c",
   "metadata": {},
   "outputs": [],
   "source": [
    "mtcnn = MTCNN() # initalizes the mtcnn\n",
    "im = capture_image_func() # returns the image that is taken, or passed\n",
    "cropped_image,bound_x,bound_y,bound_w,bound_h = detect_and_crop(mtcnn,im) # returns the cropped image and \n",
    "# the image coordinates\n",
    "bounding_box = [bound_x,bound_y,bound_w,bound_h]# create a list of the coordinates of the boudning box in \n",
    "# order to be passed into the show bounding box function\n",
    "show_bounding_box(im,bounding_box)# uses the show bounding box function in order to use matplotlib in order \n",
    "# to print a bounding box on the persons face\n"
   ]
  },
  {
   "cell_type": "markdown",
   "id": "3f099f59",
   "metadata": {},
   "source": [
    "![bounarybox](figures/bounarybox.jpeg)"
   ]
  },
  {
   "cell_type": "markdown",
   "id": "178b9bbb",
   "metadata": {},
   "source": [
    "### Step 3: Face Recognition\n",
    "\n",
    "Once the faces are detected in the picture, you can then use your FaceNet to perform recognition of the faces. This step is a continuation of Part 3.1, and you now need to pass the image to the face recognition network and get the output feature vector.\n",
    "\n",
    "Before passing the input image to the model, you need to preprocess the image, which includes resizing the image to the expected size of the model and standardize values across the channels. For your convenience, the preprocessing function is provided.\n",
    "\n",
    "The run_model function should perform the following tasks:\n",
    "- Extract the input and output shape details from the model\n",
    "- Set the input tensor\n",
    "- Invoke the model\n",
    "- Extract and return the output tensor\n",
    "\n",
    "This is almost a standard process of running TensorFlow Lite models. You can refer to [this example][TFLite] for the details, you need very few changes in general.\n",
    "\n",
    "Finally, write a short script that calls the functions and perform the following steps:\n",
    "1. Load the TensorFlow Lite model\n",
    "2. Allocate the tensors\n",
    "3. Preprocess the cropped image\n",
    "4. Run the model on the preprocessed image and save the output tensor\n",
    "\n",
    "[TFLite]:https://www.tensorflow.org/lite/guide/inference#load_and_run_a_model_in_python"
   ]
  },
  {
   "cell_type": "code",
   "execution_count": null,
   "id": "39945df3",
   "metadata": {},
   "outputs": [],
   "source": [
    "# preprocessing function provided to the students\n",
    "import cv2\n",
    "import numpy as np\n",
    "def pre_process(face,required_size=(160,160)):\n",
    "\tret = cv2.resize(face,required_size)\n",
    "\tret = ret.astype('float32')\n",
    "\tmean, std = ret.mean(), ret.std()\n",
    "\tret = (ret-mean)/std\n",
    "\treturn ret\n",
    "image = cv2.imread(\"quan_cropped.jpg\")# reads the cropped image from the detect and crop function\n",
    "img_arr = np.array(image)# makes an array from the image in order to be resized in the preprocess function\n",
    "pre_processed_im =pre_process(face=img_arr)# calls the precocessing function with the cropped image\n",
    "print(pre_processed_im.shape)\n",
    "cv2.imwrite('preprocess2_quan.jpg',pre_processed_im)# writes the preprocessed image to the directory"
   ]
  },
  {
   "cell_type": "code",
   "execution_count": null,
   "id": "5a88a786",
   "metadata": {},
   "outputs": [],
   "source": [
    "import time\n",
    "import tflite_runtime.interpreter as tflite\n",
    "import numpy as np\n",
    "import cv2\n",
    "# The run model function will take in the model to be use and the preprocessed face image. In the step 3 \n",
    "# instructions, it says that the model should be loaded, \n",
    "# the tensors allocated, the image should be preprocessed and, the model should be run all in another script. \n",
    "# On the Pi we found this to be complicated so we just preprocessed\n",
    "# all the images we needed as seen in the above cell then we would call the run model function which loads the \n",
    "# tflite model, allocates the tensors, runs the model, and saves\n",
    "# the tensors.\n",
    "\n",
    "def run_model(model,face):\n",
    "\t# these model loading steps are the same as the ones above\n",
    "\tinterpreter = tflite.Interpreter(model_path=model) #loading the tflite model\n",
    "\t\n",
    "\tinterpreter.allocate_tensors()# allocating the tensors \n",
    "\t\n",
    "\tinput_details = interpreter.get_input_details()#input details\n",
    "\toutput_details = interpreter.get_output_details()# output details\n",
    "\t\n",
    "\tinput_shape = input_details[0]['shape']\n",
    "\t\n",
    "\tinterpreter.set_tensor(input_details[0]['index'],face)# sets the input tensor\n",
    "\tinterpreter.invoke()# runs the model\n",
    "\toutput_data = interpreter.get_tensor(output_details[0]['index']) # attains the output data\n",
    "\t\n",
    "\t\n",
    "\treturn output_data# the output data is then returned\n",
    "\n"
   ]
  },
  {
   "cell_type": "markdown",
   "id": "1873addb",
   "metadata": {},
   "source": [
    "### Step 4: Verification and Report\n",
    "\n"
   ]
  },
  {
   "cell_type": "markdown",
   "id": "6b0cf360",
   "metadata": {},
   "source": [
    "To verify the correct functionality of your face recognition system, you will need to calculate the euclidean distances between the feature vectors of pictures of yourself and other people. If the distance between your pictures is significantly smaller than the distance between the pictures of you and other people, then your network basically functions as expected.\n",
    "\n",
    "The distance between the feature vectors can be evaluated with the euclidean distance as you have implemented in Lab 1. We provide a read_image() function here for you to read images from files easily.\n",
    "\n",
    "To demonstrate the functionality of your network, in your final report include **Distances between pairs of pictures, picked from 2 pictures of yourself, and 2 pictures of other people (6 possible pairs in total). Also show all 4 pictures in your report.**\n",
    "\n",
    "(You can choose the pictures of other people freely. They can be headshots of the TAs on the course website or other famous people if you want.)"
   ]
  },
  {
   "cell_type": "code",
   "execution_count": 1,
   "id": "3ccd3d90",
   "metadata": {},
   "outputs": [],
   "source": [
    "# process the second image of the first person\n",
    "\n",
    "# 1. Read the image, at this point the image has been taken, face detected and cropped, and preprocessed\n",
    "image = cv2.imread(\"preprocess2_quan.jpg\")\n",
    "image_reshaped = np.expand_dims(image,axis=0)# adding dimensions to the image in accordance to the input details size.\n",
    "# 2. Run the model\n",
    "image1_out = run_model(\"/home/siliconsquad/Desktop/google_net_new2.tflite\",image_reshaped.astype(np.float32))# runs the model using the inception resnet model, then passes in the preprocessed image.\n",
    "\n",
    "\n",
    "\n",
    "\n",
    "\n",
    "# process the image of the second person\n",
    "\n",
    "# 1. Read the image, at this point the image has been taken, face detected and cropped, and preprocessed\n",
    "image2 = cv2.imread(\"preprocess2_junhao.jpg\")\n",
    "image2_reshaped = np.expand_dims(image2,axis=0)# adding dimensions to the image in accordance to the \n",
    "# input details size.\n",
    "# 2. Run the model\n",
    "image2_out = run_model(\"/home/siliconsquad/Desktop/google_net_new2.tflite\",image2_reshaped.astype(np.float32))\n",
    "# runs the model using the inception resnet model, then passes in the preprocessed image.\n",
    "\n",
    "# Do the comparison of the distance, subtracts the two lists element wise squares the difference, sums all \n",
    "# squares and, takes the total summed square root.\n",
    "print(np.sqrt(np.sum((image1_out-image2_out)**2,axis=1)))\n",
    "\n",
    "\n",
    "\n"
   ]
  },
  {
   "cell_type": "markdown",
   "id": "df1e9aa6",
   "metadata": {},
   "source": [
    "### Euclidian Distances Between two images\n",
    "#### Josh 1\n",
    "![josh_1](figures/josh_1.jpeg)\n",
    "#### Josh 2\n",
    "![josh_2](figures/josh_2.jpeg)\n",
    "#### Quan\n",
    "![quan](figures/quan.jpeg)\n",
    "#### Junhao\n",
    "![josh](figures/junhao.jpeg)\n",
    "\n",
    "josh_1 vs junhao - 1.16\n",
    "\n",
    "josh_1 vs quan - 1.27\n",
    "\n",
    "josh_1 vs josh_2 - 0.37\n",
    "\n",
    "josh_2 vs junhao - 1.23\n",
    "\n",
    "josh_2 vs quan - 1.35\n",
    "\n",
    "quan vs junhao - 0.9175 "
   ]
  },
  {
   "cell_type": "markdown",
   "id": "7af775b0",
   "metadata": {},
   "source": [
    "## Report Requirements & Grading (10 pts)\n",
    "You need to turn in a report and the code. You may turn in a separately-written report, but **in general, we recommend that you directly use the provided Jupyter Notebook and turn it in as your report.** For the first half of Part III, you don't need to implement all the code in the notebook, but you can run the load model step in the notebooks to demonstrate the result.\n",
    "\n",
    "### Part 1: (2 pts)\n",
    "* Show the command/code and output for getting the following (0.5 points each):\n",
    "    1. The CPU spec\n",
    "    2. The network configuration\n",
    "    3. The TensorFlow checks (version, GPU, etc.)\n",
    "* You can make screenshots of both the command/code and the resulting output or paste them directly into the report or the notebook.\n",
    "  \n",
    "### Part 2: (4 pts)\n",
    "* For each of the steps, briefly explain your approach and include the key outputs.\n",
    "* Show the training and testing accuracy of your model. For full credit, the testing accuracy should be over 85% and training accuracy should be over 90%. (2 Points)\n",
    "* Show the plots of train and validation loss and accuracy, similar to the ones shown before. (1 Point)\n",
    "* Show the accuracy and inference time of the TFLite models quantized with the two methods with and without the USB accelerator. Compare and comment on what you observed in the report. There might be no significant improvements in terms of performance, but you should try to understand and explain why in your report. (1 Point)\n",
    "  \n",
    "### Part 3: (4 pts)\n",
    "* For each of the steps, briefly explain your approach and include the key outputs.\n",
    "* Show the output of loading weights for your model to confirm that your model is correctly implemented. You can get partial credit if you cannot load the model correctly. (2 Points)\n",
    "* Show the bounding box of the face detected by MTCNN in the captured image, as described in the 'Face Detection' section of Part III. (1 Point)\n",
    "* Report the distances between pairs of pictures, picked from 4 pictures: 2 of yourself and 2 of other people (6 pairs in total). Also, show all 4 pictures in your report. (1 Point)\n",
    "\n",
    "### Notes: \n",
    "* Besides the above requirements, your report should also include the following details: \n",
    "  * Your full name and your NetID.\n",
    "  * The difficulties/bugs you encountered and how you solved them\n",
    "  * What you learned from this lab\n",
    "* Your report should cover all the required information, but please keep your report clean and concise.\n",
    "* Please add references to your report if you referred to any resources when you work on your lab.\n",
    "* Please submit your **report** and **code**, or the **Jupyter Notebook** to Canvas\n"
   ]
  },
  {
   "cell_type": "markdown",
   "id": "fd676ac3",
   "metadata": {},
   "source": [
    "## Difficulties/Bugs \n",
    "We encountered many difficulties during this lab starting with the OS that we ran on our RPi, we started the lab builing the intial fashion net model which was all run on the PC and was built using the tensorflow version 2.10.0. We also built all of the tflite models using this version of tf, this gave us many different errors when deploying the models on the RPi, none of the models would run on the Pi and many errors were raised. We spent hours installing and unintsalling dependencies on the Pi, in order to get the code we wrote to work. It was very frustrating to install and uninstall the OS many times in order for everything to work correctly. After days of configuring the Pi to work appropriately we got it to compile the code with tensorflow 2.12.0 on the Pi,tflite_runtime 2.5.0, 64 bit OS bullsye, and Python 3.9.2. Then we encountered that taking images on the pi was updated if you were running 64 bit, so we had to change the picamera code to using the Picamera2 code. But after that moment, everything in the lab worked perfectly. We did not encounter many errors with the rest of the lab other than just a few modifications that we did to the inception resnet to improve the feature tensor.\n",
    "\n",
    "## Learned from lab\n",
    "We learned so much from this lab. It probably has been one of the most challenging labs not due to the conceptual understanding of building the models, but rather working with the Pi and coral accellerator. We have never worked with these components and it took us many hours of looking at documentation on the devices in order to get the code to run. Other than that we learned some hands on experience with building neural networks, and some of the optimization methods that comes with. We enjoyed this lab a lot and are excited for lab 3."
   ]
  },
  {
   "cell_type": "markdown",
   "id": "c4d65f51",
   "metadata": {},
   "source": []
  }
 ],
 "metadata": {
  "kernelspec": {
   "display_name": "Python 3 (ipykernel)",
   "language": "python",
   "name": "python3"
  },
  "language_info": {
   "codemirror_mode": {
    "name": "ipython",
    "version": 3
   },
   "file_extension": ".py",
   "mimetype": "text/x-python",
   "name": "python",
   "nbconvert_exporter": "python",
   "pygments_lexer": "ipython3",
   "version": "3.10.10"
  },
  "vscode": {
   "interpreter": {
    "hash": "8a5edab282632443219e051e4ade2d1d5bbc671c781051bf1437897cbdfea0f1"
   }
  }
 },
 "nbformat": 4,
 "nbformat_minor": 5
}
